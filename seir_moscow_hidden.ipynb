{
 "cells": [
  {
   "cell_type": "markdown",
   "metadata": {},
   "source": [
    "# In this notebook we fit a SEIR model with hidden states to the Moscow Covid-19 data"
   ]
  },
  {
   "cell_type": "code",
   "execution_count": 1,
   "metadata": {},
   "outputs": [],
   "source": [
    "import numpy as np\n",
    "import pandas as pd\n",
    "import seaborn as sns\n",
    "from matplotlib import pyplot as plt\n",
    "from scipy.integrate import odeint\n",
    "from sklearn.metrics import mean_absolute_error\n",
    "import lmfit\n",
    "from tqdm.auto import tqdm\n",
    "import pickle"
   ]
  },
  {
   "cell_type": "code",
   "execution_count": 2,
   "metadata": {},
   "outputs": [],
   "source": [
    "sns.set()\n",
    "%matplotlib inline"
   ]
  },
  {
   "cell_type": "code",
   "execution_count": 3,
   "metadata": {},
   "outputs": [],
   "source": [
    "%load_ext autoreload"
   ]
  },
  {
   "cell_type": "code",
   "execution_count": 4,
   "metadata": {},
   "outputs": [],
   "source": [
    "%autoreload 2"
   ]
  },
  {
   "cell_type": "code",
   "execution_count": 5,
   "metadata": {},
   "outputs": [],
   "source": [
    "from sir_models.models import SEIRHidden\n",
    "from sir_models.fitters import HiddenCurveFitter\n",
    "from sir_models.utils import stepwise, eval_on_select_dates_and_k_days_ahead"
   ]
  },
  {
   "cell_type": "markdown",
   "metadata": {},
   "source": [
    "# Load data"
   ]
  },
  {
   "cell_type": "code",
   "execution_count": 6,
   "metadata": {},
   "outputs": [],
   "source": [
    "df = pd.read_csv('data/moscow_prepared.csv', parse_dates=['date'])"
   ]
  },
  {
   "cell_type": "code",
   "execution_count": 7,
   "metadata": {},
   "outputs": [],
   "source": [
    "df['date'] = pd.date_range(start=df.date.iloc[0], end=df.date.iloc[-1], freq='D')"
   ]
  },
  {
   "cell_type": "code",
   "execution_count": 8,
   "metadata": {},
   "outputs": [
    {
     "data": {
      "text/html": [
       "<div>\n",
       "<style scoped>\n",
       "    .dataframe tbody tr th:only-of-type {\n",
       "        vertical-align: middle;\n",
       "    }\n",
       "\n",
       "    .dataframe tbody tr th {\n",
       "        vertical-align: top;\n",
       "    }\n",
       "\n",
       "    .dataframe thead th {\n",
       "        text-align: right;\n",
       "    }\n",
       "</style>\n",
       "<table border=\"1\" class=\"dataframe\">\n",
       "  <thead>\n",
       "    <tr style=\"text-align: right;\">\n",
       "      <th></th>\n",
       "      <th>date</th>\n",
       "      <th>total_infected</th>\n",
       "      <th>total_recovered</th>\n",
       "      <th>total_dead</th>\n",
       "      <th>deaths_per_day</th>\n",
       "      <th>infected_per_day</th>\n",
       "      <th>recovered_per_day</th>\n",
       "      <th>infected</th>\n",
       "      <th>total_infected_ma7</th>\n",
       "      <th>total_recovered_ma7</th>\n",
       "      <th>total_dead_ma7</th>\n",
       "      <th>deaths_per_day_ma7</th>\n",
       "      <th>infected_per_day_ma7</th>\n",
       "      <th>recovered_per_day_ma7</th>\n",
       "      <th>infected_ma7</th>\n",
       "    </tr>\n",
       "  </thead>\n",
       "  <tbody>\n",
       "    <tr>\n",
       "      <th>0</th>\n",
       "      <td>2020-03-12</td>\n",
       "      <td>21</td>\n",
       "      <td>0</td>\n",
       "      <td>0</td>\n",
       "      <td>0</td>\n",
       "      <td>21</td>\n",
       "      <td>0</td>\n",
       "      <td>21</td>\n",
       "      <td>21.0</td>\n",
       "      <td>0.0</td>\n",
       "      <td>0.0</td>\n",
       "      <td>0.0</td>\n",
       "      <td>21.0</td>\n",
       "      <td>0.0</td>\n",
       "      <td>21.0</td>\n",
       "    </tr>\n",
       "    <tr>\n",
       "      <th>1</th>\n",
       "      <td>2020-03-13</td>\n",
       "      <td>26</td>\n",
       "      <td>0</td>\n",
       "      <td>0</td>\n",
       "      <td>0</td>\n",
       "      <td>5</td>\n",
       "      <td>0</td>\n",
       "      <td>26</td>\n",
       "      <td>26.0</td>\n",
       "      <td>0.0</td>\n",
       "      <td>0.0</td>\n",
       "      <td>0.0</td>\n",
       "      <td>5.0</td>\n",
       "      <td>0.0</td>\n",
       "      <td>26.0</td>\n",
       "    </tr>\n",
       "    <tr>\n",
       "      <th>2</th>\n",
       "      <td>2020-03-14</td>\n",
       "      <td>35</td>\n",
       "      <td>0</td>\n",
       "      <td>0</td>\n",
       "      <td>0</td>\n",
       "      <td>9</td>\n",
       "      <td>0</td>\n",
       "      <td>35</td>\n",
       "      <td>35.0</td>\n",
       "      <td>0.0</td>\n",
       "      <td>0.0</td>\n",
       "      <td>0.0</td>\n",
       "      <td>9.0</td>\n",
       "      <td>0.0</td>\n",
       "      <td>35.0</td>\n",
       "    </tr>\n",
       "    <tr>\n",
       "      <th>3</th>\n",
       "      <td>2020-03-15</td>\n",
       "      <td>35</td>\n",
       "      <td>1</td>\n",
       "      <td>0</td>\n",
       "      <td>0</td>\n",
       "      <td>0</td>\n",
       "      <td>1</td>\n",
       "      <td>34</td>\n",
       "      <td>35.0</td>\n",
       "      <td>1.0</td>\n",
       "      <td>0.0</td>\n",
       "      <td>0.0</td>\n",
       "      <td>0.0</td>\n",
       "      <td>1.0</td>\n",
       "      <td>34.0</td>\n",
       "    </tr>\n",
       "    <tr>\n",
       "      <th>4</th>\n",
       "      <td>2020-03-16</td>\n",
       "      <td>53</td>\n",
       "      <td>1</td>\n",
       "      <td>0</td>\n",
       "      <td>0</td>\n",
       "      <td>18</td>\n",
       "      <td>0</td>\n",
       "      <td>52</td>\n",
       "      <td>53.0</td>\n",
       "      <td>1.0</td>\n",
       "      <td>0.0</td>\n",
       "      <td>0.0</td>\n",
       "      <td>18.0</td>\n",
       "      <td>0.0</td>\n",
       "      <td>52.0</td>\n",
       "    </tr>\n",
       "  </tbody>\n",
       "</table>\n",
       "</div>"
      ],
      "text/plain": [
       "        date  total_infected  total_recovered  total_dead  deaths_per_day  \\\n",
       "0 2020-03-12              21                0           0               0   \n",
       "1 2020-03-13              26                0           0               0   \n",
       "2 2020-03-14              35                0           0               0   \n",
       "3 2020-03-15              35                1           0               0   \n",
       "4 2020-03-16              53                1           0               0   \n",
       "\n",
       "   infected_per_day  recovered_per_day  infected  total_infected_ma7  \\\n",
       "0                21                  0        21                21.0   \n",
       "1                 5                  0        26                26.0   \n",
       "2                 9                  0        35                35.0   \n",
       "3                 0                  1        34                35.0   \n",
       "4                18                  0        52                53.0   \n",
       "\n",
       "   total_recovered_ma7  total_dead_ma7  deaths_per_day_ma7  \\\n",
       "0                  0.0             0.0                 0.0   \n",
       "1                  0.0             0.0                 0.0   \n",
       "2                  0.0             0.0                 0.0   \n",
       "3                  1.0             0.0                 0.0   \n",
       "4                  1.0             0.0                 0.0   \n",
       "\n",
       "   infected_per_day_ma7  recovered_per_day_ma7  infected_ma7  \n",
       "0                  21.0                    0.0          21.0  \n",
       "1                   5.0                    0.0          26.0  \n",
       "2                   9.0                    0.0          35.0  \n",
       "3                   0.0                    1.0          34.0  \n",
       "4                  18.0                    0.0          52.0  "
      ]
     },
     "execution_count": 8,
     "metadata": {},
     "output_type": "execute_result"
    }
   ],
   "source": [
    "df.head()"
   ]
  },
  {
   "cell_type": "markdown",
   "metadata": {},
   "source": [
    "# Model"
   ]
  },
  {
   "cell_type": "code",
   "execution_count": 9,
   "metadata": {},
   "outputs": [],
   "source": [
    "train_subset = df[\n",
    "    #(df.date >= '2020-03-25') &\n",
    "    (df.date <= '2021-02-01')]"
   ]
  },
  {
   "cell_type": "code",
   "execution_count": 10,
   "metadata": {},
   "outputs": [
    {
     "data": {
      "image/png": "[encoded data removed]",
      "text/plain": [
       "<Figure size 432x288 with 1 Axes>"
      ]
     },
     "metadata": {
      "needs_background": "light"
     },
     "output_type": "display_data"
    }
   ],
   "source": [
    "train_subset.infected_per_day_ma7.plot()\n",
    "plt.show()"
   ]
  },
  {
   "cell_type": "code",
   "execution_count": 11,
   "metadata": {},
   "outputs": [
    {
     "data": {
      "text/plain": [
       "327   2021-02-02\n",
       "328   2021-02-03\n",
       "329   2021-02-04\n",
       "Name: date, dtype: datetime64[ns]"
      ]
     },
     "execution_count": 11,
     "metadata": {},
     "output_type": "execute_result"
    }
   ],
   "source": [
    "test_subset = df[df.date > train_subset.iloc[-1].date]\n",
    "test_subset.date[:3]"
   ]
  },
  {
   "cell_type": "code",
   "execution_count": 12,
   "metadata": {},
   "outputs": [
    {
     "data": {
      "text/html": [
       "<div>\n",
       "<style scoped>\n",
       "    .dataframe tbody tr th:only-of-type {\n",
       "        vertical-align: middle;\n",
       "    }\n",
       "\n",
       "    .dataframe tbody tr th {\n",
       "        vertical-align: top;\n",
       "    }\n",
       "\n",
       "    .dataframe thead th {\n",
       "        text-align: right;\n",
       "    }\n",
       "</style>\n",
       "<table border=\"1\" class=\"dataframe\">\n",
       "  <thead>\n",
       "    <tr style=\"text-align: right;\">\n",
       "      <th></th>\n",
       "      <th>date</th>\n",
       "      <th>total_infected</th>\n",
       "      <th>total_recovered</th>\n",
       "      <th>total_dead</th>\n",
       "      <th>deaths_per_day</th>\n",
       "      <th>infected_per_day</th>\n",
       "      <th>recovered_per_day</th>\n",
       "      <th>infected</th>\n",
       "      <th>total_infected_ma7</th>\n",
       "      <th>total_recovered_ma7</th>\n",
       "      <th>total_dead_ma7</th>\n",
       "      <th>deaths_per_day_ma7</th>\n",
       "      <th>infected_per_day_ma7</th>\n",
       "      <th>recovered_per_day_ma7</th>\n",
       "      <th>infected_ma7</th>\n",
       "    </tr>\n",
       "  </thead>\n",
       "  <tbody>\n",
       "    <tr>\n",
       "      <th>0</th>\n",
       "      <td>2020-03-12</td>\n",
       "      <td>21</td>\n",
       "      <td>0</td>\n",
       "      <td>0</td>\n",
       "      <td>0</td>\n",
       "      <td>21</td>\n",
       "      <td>0</td>\n",
       "      <td>21</td>\n",
       "      <td>21.0</td>\n",
       "      <td>0.0</td>\n",
       "      <td>0.0</td>\n",
       "      <td>0.0</td>\n",
       "      <td>21.0</td>\n",
       "      <td>0.0</td>\n",
       "      <td>21.0</td>\n",
       "    </tr>\n",
       "    <tr>\n",
       "      <th>1</th>\n",
       "      <td>2020-03-13</td>\n",
       "      <td>26</td>\n",
       "      <td>0</td>\n",
       "      <td>0</td>\n",
       "      <td>0</td>\n",
       "      <td>5</td>\n",
       "      <td>0</td>\n",
       "      <td>26</td>\n",
       "      <td>26.0</td>\n",
       "      <td>0.0</td>\n",
       "      <td>0.0</td>\n",
       "      <td>0.0</td>\n",
       "      <td>5.0</td>\n",
       "      <td>0.0</td>\n",
       "      <td>26.0</td>\n",
       "    </tr>\n",
       "    <tr>\n",
       "      <th>2</th>\n",
       "      <td>2020-03-14</td>\n",
       "      <td>35</td>\n",
       "      <td>0</td>\n",
       "      <td>0</td>\n",
       "      <td>0</td>\n",
       "      <td>9</td>\n",
       "      <td>0</td>\n",
       "      <td>35</td>\n",
       "      <td>35.0</td>\n",
       "      <td>0.0</td>\n",
       "      <td>0.0</td>\n",
       "      <td>0.0</td>\n",
       "      <td>9.0</td>\n",
       "      <td>0.0</td>\n",
       "      <td>35.0</td>\n",
       "    </tr>\n",
       "    <tr>\n",
       "      <th>3</th>\n",
       "      <td>2020-03-15</td>\n",
       "      <td>35</td>\n",
       "      <td>1</td>\n",
       "      <td>0</td>\n",
       "      <td>0</td>\n",
       "      <td>0</td>\n",
       "      <td>1</td>\n",
       "      <td>34</td>\n",
       "      <td>35.0</td>\n",
       "      <td>1.0</td>\n",
       "      <td>0.0</td>\n",
       "      <td>0.0</td>\n",
       "      <td>0.0</td>\n",
       "      <td>1.0</td>\n",
       "      <td>34.0</td>\n",
       "    </tr>\n",
       "    <tr>\n",
       "      <th>4</th>\n",
       "      <td>2020-03-16</td>\n",
       "      <td>53</td>\n",
       "      <td>1</td>\n",
       "      <td>0</td>\n",
       "      <td>0</td>\n",
       "      <td>18</td>\n",
       "      <td>0</td>\n",
       "      <td>52</td>\n",
       "      <td>53.0</td>\n",
       "      <td>1.0</td>\n",
       "      <td>0.0</td>\n",
       "      <td>0.0</td>\n",
       "      <td>18.0</td>\n",
       "      <td>0.0</td>\n",
       "      <td>52.0</td>\n",
       "    </tr>\n",
       "  </tbody>\n",
       "</table>\n",
       "</div>"
      ],
      "text/plain": [
       "        date  total_infected  total_recovered  total_dead  deaths_per_day  \\\n",
       "0 2020-03-12              21                0           0               0   \n",
       "1 2020-03-13              26                0           0               0   \n",
       "2 2020-03-14              35                0           0               0   \n",
       "3 2020-03-15              35                1           0               0   \n",
       "4 2020-03-16              53                1           0               0   \n",
       "\n",
       "   infected_per_day  recovered_per_day  infected  total_infected_ma7  \\\n",
       "0                21                  0        21                21.0   \n",
       "1                 5                  0        26                26.0   \n",
       "2                 9                  0        35                35.0   \n",
       "3                 0                  1        34                35.0   \n",
       "4                18                  0        52                53.0   \n",
       "\n",
       "   total_recovered_ma7  total_dead_ma7  deaths_per_day_ma7  \\\n",
       "0                  0.0             0.0                 0.0   \n",
       "1                  0.0             0.0                 0.0   \n",
       "2                  0.0             0.0                 0.0   \n",
       "3                  1.0             0.0                 0.0   \n",
       "4                  1.0             0.0                 0.0   \n",
       "\n",
       "   infected_per_day_ma7  recovered_per_day_ma7  infected_ma7  \n",
       "0                  21.0                    0.0          21.0  \n",
       "1                   5.0                    0.0          26.0  \n",
       "2                   9.0                    0.0          35.0  \n",
       "3                   0.0                    1.0          34.0  \n",
       "4                  18.0                    0.0          52.0  "
      ]
     },
     "execution_count": 12,
     "metadata": {},
     "output_type": "execute_result"
    }
   ],
   "source": [
    "train_subset.head()"
   ]
  },
  {
   "cell_type": "code",
   "execution_count": 13,
   "metadata": {},
   "outputs": [
    {
     "data": {
      "application/vnd.jupyter.widget-view+json": {
       "model_id": "3ed8cb0dc9ef4dc3a015df27cff03d4e",
       "version_major": 2,
       "version_minor": 0
      },
      "text/plain": [
       "HBox(children=(FloatProgress(value=0.0, max=1000.0), HTML(value='')))"
      ]
     },
     "metadata": {},
     "output_type": "display_data"
    },
    {
     "name": "stdout",
     "output_type": "stream",
     "text": [
      "\n"
     ]
    },
    {
     "ename": "KeyboardInterrupt",
     "evalue": "",
     "output_type": "error",
     "traceback": [
      "\u001b[0;31m---------------------------------------------------------------------------\u001b[0m",
      "\u001b[0;31mKeyboardInterrupt\u001b[0m                         Traceback (most recent call last)",
      "\u001b[0;32m<ipython-input-13-46859d30cdb7>\u001b[0m in \u001b[0;36m<module>\u001b[0;34m\u001b[0m\n\u001b[1;32m     16\u001b[0m      \u001b[0msave_params_every\u001b[0m\u001b[0;34m=\u001b[0m\u001b[0;36m50\u001b[0m\u001b[0;34m,\u001b[0m\u001b[0;34m\u001b[0m\u001b[0;34m\u001b[0m\u001b[0m\n\u001b[1;32m     17\u001b[0m )\n\u001b[0;32m---> 18\u001b[0;31m \u001b[0mfitter\u001b[0m\u001b[0;34m.\u001b[0m\u001b[0mfit\u001b[0m\u001b[0;34m(\u001b[0m\u001b[0mmodel\u001b[0m\u001b[0;34m,\u001b[0m \u001b[0mtrain_subset\u001b[0m\u001b[0;34m)\u001b[0m\u001b[0;34m\u001b[0m\u001b[0;34m\u001b[0m\u001b[0m\n\u001b[0m",
      "\u001b[0;32m~/Documents/covid_modelling/covid_peak_sir_modelling/sir_models/fitters.py\u001b[0m in \u001b[0;36mfit\u001b[0;34m(self, model, data, *args, **kwargs)\u001b[0m\n\u001b[1;32m    100\u001b[0m \u001b[0;34m\u001b[0m\u001b[0m\n\u001b[1;32m    101\u001b[0m         \u001b[0;32mif\u001b[0m \u001b[0;32mnot\u001b[0m \u001b[0mself\u001b[0m\u001b[0;34m.\u001b[0m\u001b[0mbrute_params\u001b[0m\u001b[0;34m:\u001b[0m\u001b[0;34m\u001b[0m\u001b[0;34m\u001b[0m\u001b[0m\n\u001b[0;32m--> 102\u001b[0;31m             \u001b[0mself\u001b[0m\u001b[0;34m.\u001b[0m\u001b[0mresult\u001b[0m \u001b[0;34m=\u001b[0m \u001b[0mself\u001b[0m\u001b[0;34m.\u001b[0m\u001b[0moptimize\u001b[0m\u001b[0;34m(\u001b[0m\u001b[0mparams\u001b[0m\u001b[0;34m,\u001b[0m \u001b[0mt\u001b[0m\u001b[0;34m,\u001b[0m \u001b[0mdata\u001b[0m\u001b[0;34m,\u001b[0m \u001b[0mmodel\u001b[0m\u001b[0;34m,\u001b[0m \u001b[0;34m*\u001b[0m\u001b[0margs\u001b[0m\u001b[0;34m,\u001b[0m \u001b[0;34m**\u001b[0m\u001b[0mkwargs\u001b[0m\u001b[0;34m)\u001b[0m\u001b[0;34m\u001b[0m\u001b[0;34m\u001b[0m\u001b[0m\n\u001b[0m\u001b[1;32m    103\u001b[0m         \u001b[0;32melse\u001b[0m\u001b[0;34m:\u001b[0m\u001b[0;34m\u001b[0m\u001b[0;34m\u001b[0m\u001b[0m\n\u001b[1;32m    104\u001b[0m             \u001b[0mself\u001b[0m\u001b[0;34m.\u001b[0m\u001b[0mresult\u001b[0m \u001b[0;34m=\u001b[0m \u001b[0mself\u001b[0m\u001b[0;34m.\u001b[0m\u001b[0moptimize_brute\u001b[0m\u001b[0;34m(\u001b[0m\u001b[0mparams\u001b[0m\u001b[0;34m,\u001b[0m \u001b[0mself\u001b[0m\u001b[0;34m.\u001b[0m\u001b[0mbrute_params\u001b[0m\u001b[0;34m[\u001b[0m\u001b[0;36m0\u001b[0m\u001b[0;34m]\u001b[0m\u001b[0;34m,\u001b[0m \u001b[0mself\u001b[0m\u001b[0;34m.\u001b[0m\u001b[0mbrute_params\u001b[0m\u001b[0;34m[\u001b[0m\u001b[0;36m1\u001b[0m\u001b[0;34m:\u001b[0m\u001b[0;34m]\u001b[0m\u001b[0;34m,\u001b[0m \u001b[0mt\u001b[0m\u001b[0;34m,\u001b[0m \u001b[0mdata\u001b[0m\u001b[0;34m,\u001b[0m \u001b[0mmodel\u001b[0m\u001b[0;34m,\u001b[0m \u001b[0;34m*\u001b[0m\u001b[0margs\u001b[0m\u001b[0;34m,\u001b[0m \u001b[0;34m**\u001b[0m\u001b[0mkwargs\u001b[0m\u001b[0;34m)\u001b[0m\u001b[0;34m\u001b[0m\u001b[0;34m\u001b[0m\u001b[0m\n",
      "\u001b[0;32m~/Documents/covid_modelling/covid_peak_sir_modelling/sir_models/fitters.py\u001b[0m in \u001b[0;36moptimize\u001b[0;34m(self, params, t, data, model, *args, **kwargs)\u001b[0m\n\u001b[1;32m     53\u001b[0m                     \u001b[0mprint\u001b[0m\u001b[0;34m(\u001b[0m\u001b[0;34m'Reached max iters'\u001b[0m\u001b[0;34m)\u001b[0m\u001b[0;34m\u001b[0m\u001b[0;34m\u001b[0m\u001b[0m\n\u001b[1;32m     54\u001b[0m \u001b[0;34m\u001b[0m\u001b[0m\n\u001b[0;32m---> 55\u001b[0;31m             minimize_result = minimize(self.residual,\n\u001b[0m\u001b[1;32m     56\u001b[0m                                       \u001b[0mparams\u001b[0m\u001b[0;34m,\u001b[0m\u001b[0;34m\u001b[0m\u001b[0;34m\u001b[0m\u001b[0m\n\u001b[1;32m     57\u001b[0m                                       \u001b[0;34m*\u001b[0m\u001b[0margs\u001b[0m\u001b[0;34m,\u001b[0m\u001b[0;34m\u001b[0m\u001b[0;34m\u001b[0m\u001b[0m\n",
      "\u001b[0;32m~/.local/lib/python3.8/site-packages/lmfit/minimizer.py\u001b[0m in \u001b[0;36mminimize\u001b[0;34m(fcn, params, method, args, kws, iter_cb, scale_covar, nan_policy, reduce_fcn, calc_covar, max_nfev, **fit_kws)\u001b[0m\n\u001b[1;32m   2503\u001b[0m                        \u001b[0mnan_policy\u001b[0m\u001b[0;34m=\u001b[0m\u001b[0mnan_policy\u001b[0m\u001b[0;34m,\u001b[0m \u001b[0mreduce_fcn\u001b[0m\u001b[0;34m=\u001b[0m\u001b[0mreduce_fcn\u001b[0m\u001b[0;34m,\u001b[0m\u001b[0;34m\u001b[0m\u001b[0;34m\u001b[0m\u001b[0m\n\u001b[1;32m   2504\u001b[0m                        calc_covar=calc_covar, max_nfev=max_nfev, **fit_kws)\n\u001b[0;32m-> 2505\u001b[0;31m     \u001b[0;32mreturn\u001b[0m \u001b[0mfitter\u001b[0m\u001b[0;34m.\u001b[0m\u001b[0mminimize\u001b[0m\u001b[0;34m(\u001b[0m\u001b[0mmethod\u001b[0m\u001b[0;34m=\u001b[0m\u001b[0mmethod\u001b[0m\u001b[0;34m)\u001b[0m\u001b[0;34m\u001b[0m\u001b[0;34m\u001b[0m\u001b[0m\n\u001b[0m",
      "\u001b[0;32m~/.local/lib/python3.8/site-packages/lmfit/minimizer.py\u001b[0m in \u001b[0;36mminimize\u001b[0;34m(self, method, params, **kws)\u001b[0m\n\u001b[1;32m   2283\u001b[0m                         val.lower().startswith(user_method)):\n\u001b[1;32m   2284\u001b[0m                     \u001b[0mkwargs\u001b[0m\u001b[0;34m[\u001b[0m\u001b[0;34m'method'\u001b[0m\u001b[0;34m]\u001b[0m \u001b[0;34m=\u001b[0m \u001b[0mval\u001b[0m\u001b[0;34m\u001b[0m\u001b[0;34m\u001b[0m\u001b[0m\n\u001b[0;32m-> 2285\u001b[0;31m         \u001b[0;32mreturn\u001b[0m \u001b[0mfunction\u001b[0m\u001b[0;34m(\u001b[0m\u001b[0;34m**\u001b[0m\u001b[0mkwargs\u001b[0m\u001b[0;34m)\u001b[0m\u001b[0;34m\u001b[0m\u001b[0;34m\u001b[0m\u001b[0m\n\u001b[0m\u001b[1;32m   2286\u001b[0m \u001b[0;34m\u001b[0m\u001b[0m\n\u001b[1;32m   2287\u001b[0m \u001b[0;34m\u001b[0m\u001b[0m\n",
      "\u001b[0;32m~/.local/lib/python3.8/site-packages/lmfit/minimizer.py\u001b[0m in \u001b[0;36mleastsq\u001b[0;34m(self, params, max_nfev, **kws)\u001b[0m\n\u001b[1;32m   1644\u001b[0m         \u001b[0mresult\u001b[0m\u001b[0;34m.\u001b[0m\u001b[0mcall_kws\u001b[0m \u001b[0;34m=\u001b[0m \u001b[0mlskws\u001b[0m\u001b[0;34m\u001b[0m\u001b[0;34m\u001b[0m\u001b[0m\n\u001b[1;32m   1645\u001b[0m         \u001b[0;32mtry\u001b[0m\u001b[0;34m:\u001b[0m\u001b[0;34m\u001b[0m\u001b[0;34m\u001b[0m\u001b[0m\n\u001b[0;32m-> 1646\u001b[0;31m             \u001b[0mlsout\u001b[0m \u001b[0;34m=\u001b[0m \u001b[0mscipy_leastsq\u001b[0m\u001b[0;34m(\u001b[0m\u001b[0mself\u001b[0m\u001b[0;34m.\u001b[0m\u001b[0m__residual\u001b[0m\u001b[0;34m,\u001b[0m \u001b[0mvariables\u001b[0m\u001b[0;34m,\u001b[0m \u001b[0;34m**\u001b[0m\u001b[0mlskws\u001b[0m\u001b[0;34m)\u001b[0m\u001b[0;34m\u001b[0m\u001b[0;34m\u001b[0m\u001b[0m\n\u001b[0m\u001b[1;32m   1647\u001b[0m         \u001b[0;32mexcept\u001b[0m \u001b[0mAbortFitException\u001b[0m\u001b[0;34m:\u001b[0m\u001b[0;34m\u001b[0m\u001b[0;34m\u001b[0m\u001b[0m\n\u001b[1;32m   1648\u001b[0m             \u001b[0;32mpass\u001b[0m\u001b[0;34m\u001b[0m\u001b[0;34m\u001b[0m\u001b[0m\n",
      "\u001b[0;32m~/.local/lib/python3.8/site-packages/scipy/optimize/minpack.py\u001b[0m in \u001b[0;36mleastsq\u001b[0;34m(func, x0, args, Dfun, full_output, col_deriv, ftol, xtol, gtol, maxfev, epsfcn, factor, diag)\u001b[0m\n\u001b[1;32m    398\u001b[0m         \u001b[0;32mif\u001b[0m \u001b[0mmaxfev\u001b[0m \u001b[0;34m==\u001b[0m \u001b[0;36m0\u001b[0m\u001b[0;34m:\u001b[0m\u001b[0;34m\u001b[0m\u001b[0;34m\u001b[0m\u001b[0m\n\u001b[1;32m    399\u001b[0m             \u001b[0mmaxfev\u001b[0m \u001b[0;34m=\u001b[0m \u001b[0;36m200\u001b[0m\u001b[0;34m*\u001b[0m\u001b[0;34m(\u001b[0m\u001b[0mn\u001b[0m \u001b[0;34m+\u001b[0m \u001b[0;36m1\u001b[0m\u001b[0;34m)\u001b[0m\u001b[0;34m\u001b[0m\u001b[0;34m\u001b[0m\u001b[0m\n\u001b[0;32m--> 400\u001b[0;31m         retval = _minpack._lmdif(func, x0, args, full_output, ftol, xtol,\n\u001b[0m\u001b[1;32m    401\u001b[0m                                  gtol, maxfev, epsfcn, factor, diag)\n\u001b[1;32m    402\u001b[0m     \u001b[0;32melse\u001b[0m\u001b[0;34m:\u001b[0m\u001b[0;34m\u001b[0m\u001b[0;34m\u001b[0m\u001b[0m\n",
      "\u001b[0;32m~/.local/lib/python3.8/site-packages/lmfit/minimizer.py\u001b[0m in \u001b[0;36m__residual\u001b[0;34m(self, fvars, apply_bounds_transformation)\u001b[0m\n\u001b[1;32m    574\u001b[0m             \u001b[0;32mraise\u001b[0m \u001b[0mAbortFitException\u001b[0m\u001b[0;34m(\u001b[0m\u001b[0;34m\"fit aborted: too many function evaluations (%d).\"\u001b[0m \u001b[0;34m%\u001b[0m \u001b[0mself\u001b[0m\u001b[0;34m.\u001b[0m\u001b[0mmax_nfev\u001b[0m\u001b[0;34m)\u001b[0m\u001b[0;34m\u001b[0m\u001b[0;34m\u001b[0m\u001b[0m\n\u001b[1;32m    575\u001b[0m \u001b[0;34m\u001b[0m\u001b[0m\n\u001b[0;32m--> 576\u001b[0;31m         \u001b[0mout\u001b[0m \u001b[0;34m=\u001b[0m \u001b[0mself\u001b[0m\u001b[0;34m.\u001b[0m\u001b[0muserfcn\u001b[0m\u001b[0;34m(\u001b[0m\u001b[0mparams\u001b[0m\u001b[0;34m,\u001b[0m \u001b[0;34m*\u001b[0m\u001b[0mself\u001b[0m\u001b[0;34m.\u001b[0m\u001b[0muserargs\u001b[0m\u001b[0;34m,\u001b[0m \u001b[0;34m**\u001b[0m\u001b[0mself\u001b[0m\u001b[0;34m.\u001b[0m\u001b[0muserkws\u001b[0m\u001b[0;34m)\u001b[0m\u001b[0;34m\u001b[0m\u001b[0;34m\u001b[0m\u001b[0m\n\u001b[0m\u001b[1;32m    577\u001b[0m \u001b[0;34m\u001b[0m\u001b[0m\n\u001b[1;32m    578\u001b[0m         \u001b[0;32mif\u001b[0m \u001b[0mcallable\u001b[0m\u001b[0;34m(\u001b[0m\u001b[0mself\u001b[0m\u001b[0;34m.\u001b[0m\u001b[0miter_cb\u001b[0m\u001b[0;34m)\u001b[0m\u001b[0;34m:\u001b[0m\u001b[0;34m\u001b[0m\u001b[0;34m\u001b[0m\u001b[0m\n",
      "\u001b[0;32m~/Documents/covid_modelling/covid_peak_sir_modelling/sir_models/fitters.py\u001b[0m in \u001b[0;36mresidual\u001b[0;34m(self, params, t_vals, data, model)\u001b[0m\n\u001b[1;32m    152\u001b[0m         \u001b[0minitial_conditions\u001b[0m \u001b[0;34m=\u001b[0m \u001b[0mmodel\u001b[0m\u001b[0;34m.\u001b[0m\u001b[0mget_initial_conditions\u001b[0m\u001b[0;34m(\u001b[0m\u001b[0mdata\u001b[0m\u001b[0;34m)\u001b[0m\u001b[0;34m\u001b[0m\u001b[0;34m\u001b[0m\u001b[0m\n\u001b[1;32m    153\u001b[0m \u001b[0;34m\u001b[0m\u001b[0m\n\u001b[0;32m--> 154\u001b[0;31m         \u001b[0;34m(\u001b[0m\u001b[0mS\u001b[0m\u001b[0;34m,\u001b[0m \u001b[0mE\u001b[0m\u001b[0;34m,\u001b[0m \u001b[0mI\u001b[0m\u001b[0;34m,\u001b[0m \u001b[0mIv\u001b[0m\u001b[0;34m,\u001b[0m \u001b[0mR\u001b[0m\u001b[0;34m,\u001b[0m \u001b[0mRv\u001b[0m\u001b[0;34m,\u001b[0m \u001b[0mD\u001b[0m\u001b[0;34m,\u001b[0m \u001b[0mDv\u001b[0m\u001b[0;34m)\u001b[0m\u001b[0;34m,\u001b[0m \u001b[0mhistory\u001b[0m \u001b[0;34m=\u001b[0m \u001b[0mmodel\u001b[0m\u001b[0;34m.\u001b[0m\u001b[0mpredict\u001b[0m\u001b[0;34m(\u001b[0m\u001b[0mt_vals\u001b[0m\u001b[0;34m,\u001b[0m \u001b[0minitial_conditions\u001b[0m\u001b[0;34m,\u001b[0m \u001b[0mhistory\u001b[0m\u001b[0;34m=\u001b[0m\u001b[0;32mFalse\u001b[0m\u001b[0;34m)\u001b[0m\u001b[0;34m\u001b[0m\u001b[0;34m\u001b[0m\u001b[0m\n\u001b[0m\u001b[1;32m    155\u001b[0m         (new_exposed,\n\u001b[1;32m    156\u001b[0m          \u001b[0mnew_infected_invisible\u001b[0m\u001b[0;34m,\u001b[0m \u001b[0mnew_infected_visible\u001b[0m\u001b[0;34m,\u001b[0m\u001b[0;34m\u001b[0m\u001b[0;34m\u001b[0m\u001b[0m\n",
      "\u001b[0;32m~/Documents/covid_modelling/covid_peak_sir_modelling/sir_models/models.py\u001b[0m in \u001b[0;36mpredict\u001b[0;34m(self, t, initial_conditions, history)\u001b[0m\n\u001b[1;32m    131\u001b[0m             \u001b[0mhistory\u001b[0m \u001b[0;34m=\u001b[0m \u001b[0;32mNone\u001b[0m\u001b[0;34m\u001b[0m\u001b[0;34m\u001b[0m\u001b[0m\n\u001b[1;32m    132\u001b[0m \u001b[0;34m\u001b[0m\u001b[0m\n\u001b[0;32m--> 133\u001b[0;31m         \u001b[0mret\u001b[0m \u001b[0;34m=\u001b[0m \u001b[0modeint\u001b[0m\u001b[0;34m(\u001b[0m\u001b[0mself\u001b[0m\u001b[0;34m.\u001b[0m\u001b[0mstep\u001b[0m\u001b[0;34m,\u001b[0m \u001b[0minitial_conditions\u001b[0m\u001b[0;34m,\u001b[0m \u001b[0mt\u001b[0m\u001b[0;34m,\u001b[0m \u001b[0margs\u001b[0m\u001b[0;34m=\u001b[0m\u001b[0;34m(\u001b[0m\u001b[0mself\u001b[0m\u001b[0;34m.\u001b[0m\u001b[0mparams\u001b[0m\u001b[0;34m,\u001b[0m \u001b[0mhistory\u001b[0m\u001b[0;34m)\u001b[0m\u001b[0;34m)\u001b[0m\u001b[0;34m\u001b[0m\u001b[0;34m\u001b[0m\u001b[0m\n\u001b[0m\u001b[1;32m    134\u001b[0m \u001b[0;34m\u001b[0m\u001b[0m\n\u001b[1;32m    135\u001b[0m         \u001b[0;32mif\u001b[0m \u001b[0mhistory\u001b[0m\u001b[0;34m:\u001b[0m\u001b[0;34m\u001b[0m\u001b[0;34m\u001b[0m\u001b[0m\n",
      "\u001b[0;32m~/.local/lib/python3.8/site-packages/scipy/integrate/odepack.py\u001b[0m in \u001b[0;36modeint\u001b[0;34m(func, y0, t, args, Dfun, col_deriv, full_output, ml, mu, rtol, atol, tcrit, h0, hmax, hmin, ixpr, mxstep, mxhnil, mxordn, mxords, printmessg, tfirst)\u001b[0m\n\u001b[1;32m    240\u001b[0m     \u001b[0mt\u001b[0m \u001b[0;34m=\u001b[0m \u001b[0mcopy\u001b[0m\u001b[0;34m(\u001b[0m\u001b[0mt\u001b[0m\u001b[0;34m)\u001b[0m\u001b[0;34m\u001b[0m\u001b[0;34m\u001b[0m\u001b[0m\n\u001b[1;32m    241\u001b[0m     \u001b[0my0\u001b[0m \u001b[0;34m=\u001b[0m \u001b[0mcopy\u001b[0m\u001b[0;34m(\u001b[0m\u001b[0my0\u001b[0m\u001b[0;34m)\u001b[0m\u001b[0;34m\u001b[0m\u001b[0;34m\u001b[0m\u001b[0m\n\u001b[0;32m--> 242\u001b[0;31m     output = _odepack.odeint(func, y0, t, args, Dfun, col_deriv, ml, mu,\n\u001b[0m\u001b[1;32m    243\u001b[0m                              \u001b[0mfull_output\u001b[0m\u001b[0;34m,\u001b[0m \u001b[0mrtol\u001b[0m\u001b[0;34m,\u001b[0m \u001b[0matol\u001b[0m\u001b[0;34m,\u001b[0m \u001b[0mtcrit\u001b[0m\u001b[0;34m,\u001b[0m \u001b[0mh0\u001b[0m\u001b[0;34m,\u001b[0m \u001b[0mhmax\u001b[0m\u001b[0;34m,\u001b[0m \u001b[0mhmin\u001b[0m\u001b[0;34m,\u001b[0m\u001b[0;34m\u001b[0m\u001b[0;34m\u001b[0m\u001b[0m\n\u001b[1;32m    244\u001b[0m                              \u001b[0mixpr\u001b[0m\u001b[0;34m,\u001b[0m \u001b[0mmxstep\u001b[0m\u001b[0;34m,\u001b[0m \u001b[0mmxhnil\u001b[0m\u001b[0;34m,\u001b[0m \u001b[0mmxordn\u001b[0m\u001b[0;34m,\u001b[0m \u001b[0mmxords\u001b[0m\u001b[0;34m,\u001b[0m\u001b[0;34m\u001b[0m\u001b[0;34m\u001b[0m\u001b[0m\n",
      "\u001b[0;32m~/Documents/covid_modelling/covid_peak_sir_modelling/sir_models/models.py\u001b[0m in \u001b[0;36mstep\u001b[0;34m(self, initial_conditions, t, params, history_store)\u001b[0m\n\u001b[1;32m    181\u001b[0m         \u001b[0mpd\u001b[0m \u001b[0;34m=\u001b[0m \u001b[0mparams\u001b[0m\u001b[0;34m[\u001b[0m\u001b[0;34m'pd'\u001b[0m\u001b[0;34m]\u001b[0m\u001b[0;34m\u001b[0m\u001b[0;34m\u001b[0m\u001b[0m\n\u001b[1;32m    182\u001b[0m \u001b[0;34m\u001b[0m\u001b[0m\n\u001b[0;32m--> 183\u001b[0;31m         \u001b[0mquarantine_mult\u001b[0m\u001b[0;34m,\u001b[0m \u001b[0mrt\u001b[0m\u001b[0;34m,\u001b[0m \u001b[0mbeta\u001b[0m \u001b[0;34m=\u001b[0m \u001b[0mself\u001b[0m\u001b[0;34m.\u001b[0m\u001b[0mget_step_rt_beta\u001b[0m\u001b[0;34m(\u001b[0m\u001b[0mt\u001b[0m\u001b[0;34m,\u001b[0m \u001b[0mparams\u001b[0m\u001b[0;34m)\u001b[0m\u001b[0;34m\u001b[0m\u001b[0;34m\u001b[0m\u001b[0m\n\u001b[0m\u001b[1;32m    184\u001b[0m \u001b[0;34m\u001b[0m\u001b[0m\n\u001b[1;32m    185\u001b[0m         \u001b[0;34m(\u001b[0m\u001b[0mS\u001b[0m\u001b[0;34m,\u001b[0m \u001b[0mE\u001b[0m\u001b[0;34m,\u001b[0m \u001b[0mI\u001b[0m\u001b[0;34m,\u001b[0m \u001b[0mIv\u001b[0m\u001b[0;34m,\u001b[0m \u001b[0mR\u001b[0m\u001b[0;34m,\u001b[0m \u001b[0mRv\u001b[0m\u001b[0;34m,\u001b[0m \u001b[0mD\u001b[0m\u001b[0;34m,\u001b[0m \u001b[0mDv\u001b[0m\u001b[0;34m)\u001b[0m \u001b[0;34m=\u001b[0m \u001b[0minitial_conditions\u001b[0m\u001b[0;34m\u001b[0m\u001b[0;34m\u001b[0m\u001b[0m\n",
      "\u001b[0;32m~/Documents/covid_modelling/covid_peak_sir_modelling/sir_models/models.py\u001b[0m in \u001b[0;36mget_step_rt_beta\u001b[0;34m(self, t, params)\u001b[0m\n\u001b[1;32m     81\u001b[0m \u001b[0;34m\u001b[0m\u001b[0m\n\u001b[1;32m     82\u001b[0m         \u001b[0mquarantine_mult\u001b[0m \u001b[0;34m=\u001b[0m \u001b[0mstepwise_soft\u001b[0m\u001b[0;34m(\u001b[0m\u001b[0mt\u001b[0m\u001b[0;34m,\u001b[0m \u001b[0mq_coefs\u001b[0m\u001b[0;34m,\u001b[0m \u001b[0mr\u001b[0m\u001b[0;34m=\u001b[0m\u001b[0msigmoid_r\u001b[0m\u001b[0;34m,\u001b[0m \u001b[0mc\u001b[0m\u001b[0;34m=\u001b[0m\u001b[0msigmoid_c\u001b[0m\u001b[0;34m)\u001b[0m\u001b[0;34m\u001b[0m\u001b[0;34m\u001b[0m\u001b[0m\n\u001b[0;32m---> 83\u001b[0;31m         \u001b[0mrt\u001b[0m \u001b[0;34m=\u001b[0m \u001b[0mr0\u001b[0m \u001b[0;34m-\u001b[0m \u001b[0mquarantine_mult\u001b[0m \u001b[0;34m*\u001b[0m \u001b[0mr0\u001b[0m\u001b[0;34m\u001b[0m\u001b[0;34m\u001b[0m\u001b[0m\n\u001b[0m\u001b[1;32m     84\u001b[0m         \u001b[0mbeta\u001b[0m \u001b[0;34m=\u001b[0m \u001b[0mrt\u001b[0m \u001b[0;34m*\u001b[0m \u001b[0mgamma\u001b[0m\u001b[0;34m\u001b[0m\u001b[0;34m\u001b[0m\u001b[0m\n\u001b[1;32m     85\u001b[0m         \u001b[0;32mreturn\u001b[0m \u001b[0mquarantine_mult\u001b[0m\u001b[0;34m,\u001b[0m \u001b[0mrt\u001b[0m\u001b[0;34m,\u001b[0m \u001b[0mbeta\u001b[0m\u001b[0;34m\u001b[0m\u001b[0;34m\u001b[0m\u001b[0m\n",
      "\u001b[0;31mKeyboardInterrupt\u001b[0m: "
     ]
    }
   ],
   "source": [
    "stepwize_size = 60\n",
    "\n",
    "weights = {\n",
    "    'I': 0.25,\n",
    "    'R': 0.25,\n",
    "    'D': 0.5,\n",
    "}\n",
    "model = SEIRHidden(stepwise_size=stepwize_size)\n",
    "fitter = HiddenCurveFitter(\n",
    "     new_deaths_col='deaths_per_day_ma7',\n",
    "     new_cases_col='infected_per_day_ma7',\n",
    "     new_recoveries_col='recovered_per_day_ma7',\n",
    "     \n",
    "     weights=weights,\n",
    "     max_iters=1000,\n",
    "     save_params_every=50,\n",
    ")\n",
    "fitter.fit(model, train_subset)"
   ]
  },
  {
   "cell_type": "code",
   "execution_count": null,
   "metadata": {},
   "outputs": [],
   "source": [
    "result = fitter.result\n",
    "result"
   ]
  },
  {
   "cell_type": "code",
   "execution_count": null,
   "metadata": {},
   "outputs": [],
   "source": [
    "incubation_days = model.params['incubation_days'].value\n",
    "infectious_days = model.params['infectious_days'].value\n",
    "print(f'Incubation period: {incubation_days:.2f}')\n",
    "print(f'Infectious period: {infectious_days:.2f}')"
   ]
  },
  {
   "cell_type": "code",
   "execution_count": null,
   "metadata": {},
   "outputs": [],
   "source": [
    "train_initial_conditions = model.get_initial_conditions(train_subset)\n",
    "train_t = np.arange(len(train_subset))\n",
    "\n",
    "(S, E, I, Iv, R, Rv, D, Dv), history = model.predict(train_t, train_initial_conditions)\n",
    "(new_exposed,\n",
    "         new_infected_invisible, new_infected_visible,\n",
    "         new_recovered_invisible,\n",
    "         new_recovered_visible,\n",
    "         new_dead_invisible, new_dead_visible) = model.compute_daily_values(S, E, I, Iv, R, Rv, D, Dv)"
   ]
  },
  {
   "cell_type": "code",
   "execution_count": null,
   "metadata": {},
   "outputs": [],
   "source": [
    "daily_df = pd.DataFrame(\n",
    "    {\n",
    "        'date': train_subset.date[1:].values,\n",
    "        'new_exposed': new_exposed,\n",
    "        'new_infected_invisible': new_infected_invisible,\n",
    "        'new_infected_visible': new_infected_visible,\n",
    "        'new_recovered_invisible': new_recovered_invisible,\n",
    "        'new_recovered_visible': new_recovered_visible,\n",
    "        'new_dead_invisible': new_dead_invisible,\n",
    "        'new_dead_visible': new_dead_visible\n",
    "    },\n",
    "    index=train_subset.date[1:])"
   ]
  },
  {
   "cell_type": "code",
   "execution_count": null,
   "metadata": {},
   "outputs": [],
   "source": [
    "plt.figure()\n",
    "history.rt.plot()\n",
    "history.beta.plot()\n",
    "plt.legend()\n",
    "plt.show()"
   ]
  },
  {
   "cell_type": "code",
   "execution_count": null,
   "metadata": {},
   "outputs": [],
   "source": [
    "plt.figure(figsize=(10, 7))\n",
    "plt.plot(train_subset.date, train_subset['total_dead'], label='ground truth')\n",
    "plt.plot(train_subset.date, D, label='predicted invisible', color='black', linestyle='dashed' )\n",
    "plt.plot(train_subset.date, Dv, label='predicted visible', color='black')\n",
    "plt.legend()\n",
    "plt.title('Total deaths')\n",
    "plt.show()"
   ]
  },
  {
   "cell_type": "code",
   "execution_count": null,
   "metadata": {},
   "outputs": [],
   "source": [
    "plt.figure(figsize=(10, 7))\n",
    "plt.plot(daily_df.new_dead_visible, label='daily deaths_visible', color='black', linestyle='dashed')\n",
    "plt.plot(daily_df.new_dead_invisible, label='daily deaths_invisible', color='black', linestyle=':')\n",
    "plt.plot(train_subset.date, train_subset['deaths_per_day_ma7'], label='ground truth')\n",
    "plt.legend()\n",
    "plt.title('Daily deaths')\n",
    "plt.show()"
   ]
  },
  {
   "cell_type": "code",
   "execution_count": null,
   "metadata": {},
   "outputs": [],
   "source": [
    "plt.figure(figsize=(10, 7))\n",
    "plt.plot(train_subset.date, train_subset['total_infected'], label='ground truth')\n",
    "plt.plot(daily_df.new_infected_visible.cumsum(), label='predicted visible', color='red')\n",
    "plt.plot(daily_df.new_infected_invisible.cumsum(), label='predicted invisible', color='red',  linestyle='dashed' )\n",
    "plt.legend()\n",
    "plt.title('Total infections')\n",
    "plt.show()"
   ]
  },
  {
   "cell_type": "code",
   "execution_count": null,
   "metadata": {},
   "outputs": [],
   "source": [
    "plt.figure(figsize=(10, 7))\n",
    "plt.plot(train_subset.date, train_subset['infected_per_day_ma7'], label='ground truth')\n",
    "\n",
    "plt.plot(daily_df.new_infected_visible, label='daily infected_visible', color='red')\n",
    "plt.plot(daily_df.new_infected_invisible, label='daily infected_invisible', color='red', linestyle='dashed')\n",
    "plt.legend()\n",
    "plt.title('Daily infections')\n",
    "plt.show()"
   ]
  },
  {
   "cell_type": "code",
   "execution_count": null,
   "metadata": {},
   "outputs": [],
   "source": [
    "plt.figure(figsize=(10, 7))\n",
    "plt.plot(train_subset.date, train_subset['infected'], label='ground truth')\n",
    "plt.plot(train_subset.date, I, label='predicted')\n",
    "plt.legend()\n",
    "plt.title('Active cases')\n",
    "plt.show()"
   ]
  },
  {
   "cell_type": "markdown",
   "metadata": {},
   "source": [
    "# Obtain forecast"
   ]
  },
  {
   "cell_type": "code",
   "execution_count": null,
   "metadata": {},
   "outputs": [],
   "source": [
    "test_t = len(train_subset) + np.arange(len(test_subset))"
   ]
  },
  {
   "cell_type": "code",
   "execution_count": null,
   "metadata": {},
   "outputs": [],
   "source": [
    "train_t, test_t"
   ]
  },
  {
   "cell_type": "code",
   "execution_count": null,
   "metadata": {},
   "outputs": [],
   "source": [
    "test_initial_conds = (S[-1], E[-1], I[-1], Iv[-1], R[-1], Rv[-1], D[-1], Dv[-1])"
   ]
  },
  {
   "cell_type": "code",
   "execution_count": null,
   "metadata": {},
   "outputs": [],
   "source": [
    "(test_S, test_E, test_I, test_Iv, test_R, test_Rv, test_D, test_Dv), history = model.predict(test_t, test_initial_conds)"
   ]
  },
  {
   "cell_type": "code",
   "execution_count": null,
   "metadata": {},
   "outputs": [],
   "source": [
    "(test_new_exposed,\n",
    "         test_new_infected_invisible, test_new_infected_visible,\n",
    "         test_new_recovered_invisible,\n",
    "         test_new_recovered_visible,\n",
    "         test_new_dead_invisible, test_new_dead_visible) = model.compute_daily_values(test_S, test_E, test_I, test_Iv, test_R, test_Rv, test_D, test_Dv)"
   ]
  },
  {
   "cell_type": "code",
   "execution_count": null,
   "metadata": {},
   "outputs": [],
   "source": [
    "test_daily_df = pd.DataFrame(\n",
    "    {\n",
    "        'date': test_subset.date[1:].values,\n",
    "        'new_exposed': test_new_exposed,\n",
    "        'new_infected_invisible': test_new_infected_invisible,\n",
    "        'new_infected_visible': test_new_infected_visible,\n",
    "        'new_recovered_invisible': test_new_recovered_invisible,\n",
    "        'new_recovered_visible': test_new_recovered_visible,\n",
    "        'new_dead_invisible': test_new_dead_invisible,\n",
    "        'new_dead_visible': test_new_dead_visible\n",
    "    },\n",
    "    index=test_subset.date[1:])"
   ]
  },
  {
   "cell_type": "code",
   "execution_count": null,
   "metadata": {},
   "outputs": [],
   "source": [
    "plt.figure(figsize=(10, 7))\n",
    "plt.plot(train_subset.date, train_subset['total_dead'], label='train ground truth')\n",
    "\n",
    "plt.plot(test_subset.date, test_subset['total_dead'], label='test ground truth', color='black')\n",
    "plt.plot(test_subset.date, test_D, label='test forecasted invisible', color='black', linestyle=':')\n",
    "plt.plot(test_subset.date, test_Dv, label='test forecasted visible', color='black', linestyle='dashed')\n",
    "plt.legend()\n",
    "plt.title('Total deaths')\n",
    "plt.show()"
   ]
  },
  {
   "cell_type": "code",
   "execution_count": null,
   "metadata": {},
   "outputs": [],
   "source": [
    "plt.figure(figsize=(10, 7))\n",
    "# plt.plot(train_subset.date[:-1], new_dead_visible, label='daily deaths_visible', color='black')\n",
    "# plt.plot(train_subset.date[:-1], new_dead_invisible, label='daily deaths_invisible', color='black', linestyle='dashed')\n",
    "plt.plot(train_subset.date, train_subset['deaths_per_day'], label='train ground truth')\n",
    "plt.plot(test_subset.date, test_subset['deaths_per_day'], label='test ground truth', color='black')\n",
    "\n",
    "plt.plot(test_daily_df.new_dead_invisible, label='test forecasted invisible', color='black', linestyle=':')\n",
    "plt.plot(test_daily_df.new_dead_visible, label='test forecasted visible', color='black', linestyle='dashed')\n",
    "plt.plot(daily_df.new_dead_visible, label='daily deaths_visible tain', color='black', alpha=0.5, linestyle='dashed')\n",
    "plt.legend()\n",
    "plt.title('Daily deaths')\n",
    "plt.show()"
   ]
  },
  {
   "cell_type": "code",
   "execution_count": null,
   "metadata": {},
   "outputs": [],
   "source": [
    "plt.figure(figsize=(10, 7))\n",
    "# plt.plot(train_subset.date[:-1], new_dead_visible, label='daily deaths_visible', color='black')\n",
    "# plt.plot(train_subset.date[:-1], new_dead_invisible, label='daily deaths_invisible', color='black', linestyle='dashed')\n",
    "plt.plot(train_subset.date, train_subset['recovered_per_day'], label='train ground truth')\n",
    "\n",
    "plt.plot(test_subset.date, test_subset['recovered_per_day'], label='test ground truth', color='green')\n",
    "plt.plot(test_daily_df.new_recovered_invisible, label='test forecasted invisible', color='green', linestyle='dashed')\n",
    "plt.plot(test_daily_df.new_recovered_visible, label='test forecasted visible', color='green', linestyle=':')\n",
    "plt.legend()\n",
    "plt.title('Daily recoveries')\n",
    "plt.show()"
   ]
  },
  {
   "cell_type": "code",
   "execution_count": null,
   "metadata": {},
   "outputs": [],
   "source": [
    "plt.figure(figsize=(10, 7))\n",
    "plt.plot(train_subset.date, train_subset['total_recovered'], label='train ground truth')\n",
    "plt.plot(test_subset.date, test_subset['total_recovered'], label='test ground truth', color='green')\n",
    "\n",
    "plt.plot(test_subset.date, test_R, label='test forecasted invisible', color='green', linestyle=':')\n",
    "plt.plot(test_subset.date, test_Rv, label='test forecasted visible', color='green', linestyle='dashed')\n",
    "plt.legend()\n",
    "plt.title('Total recovered')\n",
    "plt.show()"
   ]
  },
  {
   "cell_type": "code",
   "execution_count": null,
   "metadata": {},
   "outputs": [],
   "source": [
    "plt.figure(figsize=(10, 7))\n",
    "plt.plot(train_subset.date, train_subset['infected_per_day'], label='train ground truth')\n",
    "\n",
    "plt.plot(test_subset.date, test_subset['infected_per_day'], label='test ground truth', color='blue')\n",
    "plt.plot(test_daily_df.new_infected_invisible, label='test forecasted invisible', color='red', linestyle=':')\n",
    "plt.plot(test_daily_df.new_infected_visible, label='test forecasted visible', color='red', linestyle='dashed')\n",
    "plt.legend()\n",
    "plt.title('Daily infections')\n",
    "plt.show()"
   ]
  },
  {
   "cell_type": "markdown",
   "metadata": {},
   "source": [
    "# Train on full dataset and save"
   ]
  },
  {
   "cell_type": "code",
   "execution_count": 14,
   "metadata": {},
   "outputs": [
    {
     "data": {
      "application/vnd.jupyter.widget-view+json": {
       "model_id": "b3bd860d05bc4a9690c24e91da07cf3f",
       "version_major": 2,
       "version_minor": 0
      },
      "text/plain": [
       "HBox(children=(FloatProgress(value=0.0, max=1000.0), HTML(value='')))"
      ]
     },
     "metadata": {},
     "output_type": "display_data"
    },
    {
     "name": "stdout",
     "output_type": "stream",
     "text": [
      "\n"
     ]
    }
   ],
   "source": [
    "stepwize_size = 60\n",
    "\n",
    "weights = {\n",
    "    'I': 0.25,\n",
    "    'R': 0.25,\n",
    "    'D': 0.5,\n",
    "}\n",
    "model = SEIRHidden(stepwise_size=stepwize_size)\n",
    "fitter = HiddenCurveFitter(\n",
    "     new_deaths_col='deaths_per_day_ma7',\n",
    "     new_cases_col='infected_per_day_ma7',\n",
    "     new_recoveries_col='recovered_per_day_ma7',\n",
    "     \n",
    "     weights=weights,\n",
    "     max_iters=1000,\n",
    "     save_params_every=50,\n",
    ")\n",
    "fitter.fit(model, df)"
   ]
  },
  {
   "cell_type": "code",
   "execution_count": 15,
   "metadata": {},
   "outputs": [],
   "source": [
    "pickle.dump(model, open('seir_hidden_moscow.pkl', 'wb'))"
   ]
  },
  {
   "cell_type": "markdown",
   "metadata": {},
   "source": [
    "# Eval 30 days ahead on fixed dates"
   ]
  },
  {
   "cell_type": "code",
   "execution_count": 16,
   "metadata": {},
   "outputs": [
    {
     "data": {
      "text/plain": [
       "14"
      ]
     },
     "execution_count": 16,
     "metadata": {},
     "output_type": "execute_result"
    }
   ],
   "source": [
    "K = 30\n",
    "last_day = df.date.iloc[-1] - pd.to_timedelta(K, unit='D')\n",
    "eval_dates = pd.date_range(start='2020-06-01', end=last_day)[::20]\n",
    "len(eval_dates)"
   ]
  },
  {
   "cell_type": "code",
   "execution_count": 17,
   "metadata": {},
   "outputs": [],
   "source": [
    "# K = 7\n",
    "# last_day = df.date.iloc[-1] - pd.to_timedelta(K, unit='D')\n",
    "# eval_dates = pd.date_range(start='2020-12-01', end=last_day)[::5]\n",
    "# len(eval_dates)"
   ]
  },
  {
   "cell_type": "code",
   "execution_count": 18,
   "metadata": {},
   "outputs": [],
   "source": [
    "# # Some of last days\n",
    "# K = 7\n",
    "# last_day = df.date.iloc[-1] - pd.to_timedelta(K, unit='D')\n",
    "# eval_dates = pd.date_range(start='2021-01-01', end=last_day)[::20]\n",
    "# len(eval_dates)"
   ]
  },
  {
   "cell_type": "code",
   "execution_count": 19,
   "metadata": {},
   "outputs": [],
   "source": [
    "def eval_hidden_moscow(train_df, t, train_t, eval_t):\n",
    "    weights = {\n",
    "        'I': 0.25,\n",
    "        'R': 0.25,\n",
    "        'D': 0.5,\n",
    "    }\n",
    "    model = SEIRHidden()\n",
    "    fitter = HiddenCurveFitter(\n",
    "        new_deaths_col='deaths_per_day_ma7',\n",
    "        new_cases_col='infected_per_day_ma7',\n",
    "        new_recoveries_col='recovered_per_day_ma7',\n",
    "        weights=weights,\n",
    "        max_iters=1000,\n",
    "        save_params_every=500)\n",
    "    fitter.fit(model, train_df)\n",
    "\n",
    "    train_initial_conditions = model.get_initial_conditions(train_df)\n",
    "    train_states, history = model.predict(train_t, train_initial_conditions, history=False)\n",
    "\n",
    "    test_initial_conds = [compartment[-1] for compartment in train_states]\n",
    "    test_states, history = model.predict(eval_t, test_initial_conds, history=False)\n",
    "        \n",
    "    return model, fitter, test_states"
   ]
  },
  {
   "cell_type": "code",
   "execution_count": 20,
   "metadata": {},
   "outputs": [
    {
     "name": "stderr",
     "output_type": "stream",
     "text": [
      "[Parallel(n_jobs=-1)]: Using backend LokyBackend with 8 concurrent workers.\n",
      "[Parallel(n_jobs=-1)]: Done   1 tasks      | elapsed:   42.5s\n",
      "[Parallel(n_jobs=-1)]: Done   3 out of  14 | elapsed:  1.0min remaining:  3.7min\n",
      "[Parallel(n_jobs=-1)]: Done   5 out of  14 | elapsed:  1.2min remaining:  2.2min\n",
      "[Parallel(n_jobs=-1)]: Done   7 out of  14 | elapsed:  3.1min remaining:  3.1min\n",
      "[Parallel(n_jobs=-1)]: Done   9 out of  14 | elapsed:  3.2min remaining:  1.8min\n",
      "[Parallel(n_jobs=-1)]: Done  11 out of  14 | elapsed:  3.8min remaining:  1.0min\n",
      "[Parallel(n_jobs=-1)]: Done  14 out of  14 | elapsed:  5.0min finished\n"
     ]
    }
   ],
   "source": [
    "models, fitters, model_predictions, train_dfs, test_dfs = eval_on_select_dates_and_k_days_ahead(df,\n",
    "                                                                                     eval_func=eval_hidden_moscow, \n",
    "                                                                                     eval_dates=eval_dates, \n",
    "                                                                                     k=K)"
   ]
  },
  {
   "cell_type": "code",
   "execution_count": 29,
   "metadata": {},
   "outputs": [],
   "source": [
    "x_dates = [tdf.date.iloc[-1] for tdf in test_dfs]"
   ]
  },
  {
   "cell_type": "code",
   "execution_count": 30,
   "metadata": {},
   "outputs": [],
   "source": [
    "model_pred_D = [pred[7] for pred in model_predictions]\n",
    "true_D = [tdf.total_dead.values for tdf in test_dfs]\n",
    "baseline_pred_D = [[tdf.iloc[-1].total_dead]*K for tdf in train_dfs]"
   ]
  },
  {
   "cell_type": "code",
   "execution_count": 31,
   "metadata": {},
   "outputs": [],
   "source": [
    "overall_errors_model = [mean_absolute_error(true, pred) for true, pred in zip(true_D, model_pred_D)]\n",
    "overall_errors_baseline = [mean_absolute_error(true, pred) for true, pred in zip(true_D, baseline_pred_D)]\n",
    "\n",
    "point_errors_model = [mean_absolute_error(true[-1:], pred[-1:]) for true, pred in zip(true_D, model_pred_D)]\n",
    "point_errors_baseline = [mean_absolute_error(true[-1:], pred[-1:]) for true, pred in zip(true_D, baseline_pred_D)]"
   ]
  },
  {
   "cell_type": "code",
   "execution_count": 32,
   "metadata": {},
   "outputs": [
    {
     "name": "stdout",
     "output_type": "stream",
     "text": [
      "Mean overall error baseline 714.852\n",
      "Mean overall error model 550.188\n"
     ]
    }
   ],
   "source": [
    "print('Mean overall error baseline', np.mean(overall_errors_baseline).round(3))\n",
    "print('Mean overall error model', np.mean(overall_errors_model).round(3))"
   ]
  },
  {
   "cell_type": "code",
   "execution_count": 33,
   "metadata": {},
   "outputs": [
    {
     "data": {
      "image/png": "[encoded data removed]",
      "text/plain": [
       "<Figure size 720x504 with 1 Axes>"
      ]
     },
     "metadata": {
      "needs_background": "light"
     },
     "output_type": "display_data"
    }
   ],
   "source": [
    "plt.figure(figsize=(10, 7))\n",
    "plt.plot(x_dates, overall_errors_model, label='Model error')\n",
    "plt.plot(x_dates, overall_errors_baseline, label='Baseline error')\n",
    "plt.legend()\n",
    "plt.ylabel('Mean Absolute Error')\n",
    "plt.title('MAE as a function of time')\n",
    "plt.show()"
   ]
  },
  {
   "cell_type": "code",
   "execution_count": 34,
   "metadata": {},
   "outputs": [
    {
     "data": {
      "image/png": "[encoded data removed]",
      "text/plain": [
       "<Figure size 720x504 with 1 Axes>"
      ]
     },
     "metadata": {
      "needs_background": "light"
     },
     "output_type": "display_data"
    }
   ],
   "source": [
    "plt.figure(figsize=(10, 7))\n",
    "plt.scatter(x_dates, [v[-1] for v in true_D], label='True dead')\n",
    "plt.scatter(x_dates, [v[-1] for v in baseline_pred_D], label='Baseline pred dead')\n",
    "plt.scatter(x_dates, [v[-1] for v in model_pred_D], label='Model pred dead')\n",
    "\n",
    "plt.legend()\n",
    "plt.show()"
   ]
  },
  {
   "cell_type": "markdown",
   "metadata": {},
   "source": [
    "### Take a look on one prediction"
   ]
  },
  {
   "cell_type": "code",
   "execution_count": 43,
   "metadata": {},
   "outputs": [
    {
     "data": {
      "image/png": "[encoded data removed]",
      "text/plain": [
       "<Figure size 720x504 with 1 Axes>"
      ]
     },
     "metadata": {
      "needs_background": "light"
     },
     "output_type": "display_data"
    }
   ],
   "source": [
    "ix = np.random.choice(np.arange(len(train_dfs)))\n",
    "\n",
    "train_df = train_dfs[ix]\n",
    "test_df = test_dfs[ix]\n",
    "model_preds = model_predictions[ix]\n",
    "baseline_predictions = baseline_pred_D[ix]\n",
    "fitter = fitters[ix]\n",
    "plt.figure(figsize=(10, 7))\n",
    "plt.plot(train_df.date, train_df.total_dead, label='Train')\n",
    "plt.plot(test_df.date, test_df.total_dead, label='Test')\n",
    "plt.plot(test_df.date, model_preds[7], label='Predicted')\n",
    "plt.plot(test_df.date, baseline_predictions, label='Baseline')\n",
    "plt.legend()\n",
    "plt.title(f'Total dead on date {test_df.date.iloc[0]}')\n",
    "plt.show()"
   ]
  },
  {
   "cell_type": "code",
   "execution_count": 36,
   "metadata": {},
   "outputs": [
    {
     "data": {
      "text/html": [
       "<h2>Fit Statistics</h2><table><tr><td>fitting method</td><td>leastsq</td><td></td></tr><tr><td># function evals</td><td>371</td><td></td></tr><tr><td># data points</td><td>1020</td><td></td></tr><tr><td># variables</td><td>10</td><td></td></tr><tr><td>chi-square</td><td> 8.60903895</td><td></td></tr><tr><td>reduced chi-square</td><td> 0.00852380</td><td></td></tr><tr><td>Akaike info crit.</td><td>-4850.24012</td><td></td></tr><tr><td>Bayesian info crit.</td><td>-4800.96454</td><td></td></tr></table><h2>Variables</h2><table><tr><th> name </th><th> value </th><th> initial value </th><th> min </th><th> max </th><th> vary </th><th> expression </th><th> brute step </th></tr><tr><td> population </td><td>  12000000.0 </td><td> 12000000 </td><td>        -inf </td><td>         inf </td><td> False </td><td>  </td><td> None </td></tr><tr><td> sigmoid_r </td><td>  20.0000000 </td><td> 20 </td><td>  1.00000000 </td><td>  30.0000000 </td><td> False </td><td>  </td><td>  1.00000000 </td></tr><tr><td> sigmoid_c </td><td>  0.50000000 </td><td> 0.5 </td><td>  0.00000000 </td><td>  1.00000000 </td><td> False </td><td>  </td><td>  0.10000000 </td></tr><tr><td> epidemic_started_days_ago </td><td>  10.0000000 </td><td> 10 </td><td>  1.00000000 </td><td>  90.0000000 </td><td> False </td><td>  </td><td>  10.0000000 </td></tr><tr><td> r0 </td><td>  4.99197006 </td><td> 4 </td><td>  3.00000000 </td><td>  5.00000000 </td><td> True </td><td>  </td><td>  0.05000000 </td></tr><tr><td> alpha </td><td>  0.00640000 </td><td> 0.0064 </td><td>  0.00500000 </td><td>  0.00780000 </td><td> True </td><td>  </td><td>  5.0000e-04 </td></tr><tr><td> delta </td><td>  0.49962573 </td><td> 0.3333333333333333 </td><td>  0.07142857 </td><td>  0.50000000 </td><td> True </td><td>  </td><td> None </td></tr><tr><td> gamma </td><td>  0.11111111 </td><td> 0.1111111111111111 </td><td>  0.07142857 </td><td>  0.14285714 </td><td> False </td><td>  </td><td> None </td></tr><tr><td> rho </td><td>  0.11111111 </td><td> 0.1111111111111111 </td><td>        -inf </td><td>         inf </td><td> False </td><td> gamma </td><td> None </td></tr><tr><td> incubation_days </td><td>  2.00149819 </td><td> 3.0 </td><td>        -inf </td><td>         inf </td><td> False </td><td> 1/delta </td><td> None </td></tr><tr><td> infectious_days </td><td>  9.00000000 </td><td> 9.0 </td><td>        -inf </td><td>         inf </td><td> False </td><td> 1/gamma </td><td> None </td></tr><tr><td> t0_q </td><td>  0.00000000 </td><td> 0 </td><td>  0.00000000 </td><td>  0.99000000 </td><td> False </td><td>  </td><td>  0.10000000 </td></tr><tr><td> t60_q </td><td>  0.71953144 </td><td> 0.5 </td><td>  0.00000000 </td><td>  0.99000000 </td><td> True </td><td>  </td><td>  0.10000000 </td></tr><tr><td> t120_q </td><td>  0.87702076 </td><td> 0.5 </td><td>  0.00000000 </td><td>  0.99000000 </td><td> True </td><td>  </td><td>  0.10000000 </td></tr><tr><td> t180_q </td><td>  0.72291830 </td><td> 0.5 </td><td>  0.00000000 </td><td>  0.99000000 </td><td> True </td><td>  </td><td>  0.10000000 </td></tr><tr><td> t240_q </td><td>  0.72009619 </td><td> 0.5 </td><td>  0.00000000 </td><td>  0.99000000 </td><td> True </td><td>  </td><td>  0.10000000 </td></tr><tr><td> t300_q </td><td>  0.76943226 </td><td> 0.5 </td><td>  0.00000000 </td><td>  0.99000000 </td><td> True </td><td>  </td><td>  0.10000000 </td></tr><tr><td> pi </td><td>  0.26940301 </td><td> 0.2 </td><td>  0.15000000 </td><td>  0.30000000 </td><td> True </td><td>  </td><td>  0.01000000 </td></tr><tr><td> pd </td><td>  0.72727130 </td><td> 0.35 </td><td>  0.15000000 </td><td>  0.90000000 </td><td> True </td><td>  </td><td>  0.05000000 </td></tr></table>"
      ],
      "text/plain": [
       "<lmfit.minimizer.MinimizerResult at 0x7f8479469b50>"
      ]
     },
     "execution_count": 36,
     "metadata": {},
     "output_type": "execute_result"
    }
   ],
   "source": [
    "fitter.result"
   ]
  },
  {
   "cell_type": "markdown",
   "metadata": {},
   "source": [
    "# Grid search hyperparams"
   ]
  },
  {
   "cell_type": "code",
   "execution_count": null,
   "metadata": {},
   "outputs": [],
   "source": [
    "raise"
   ]
  },
  {
   "cell_type": "code",
   "execution_count": null,
   "metadata": {},
   "outputs": [],
   "source": [
    "from numba import jit, prange\n",
    "from joblib import Parallel, delayed"
   ]
  },
  {
   "cell_type": "code",
   "execution_count": null,
   "metadata": {},
   "outputs": [],
   "source": [
    "def get_error(stepwise_size, weights, eval_dates, K):\n",
    "    def eval_hidden_moscow(train_df, t, train_t, eval_t):\n",
    "        model = SEIRHidden(stepwise_size=stepwise_size)\n",
    "        fitter = HiddenCurveFitter(\n",
    "            new_deaths_col='deaths_per_day_ma7',\n",
    "            new_cases_col='infected_per_day_ma7',\n",
    "            new_recoveries_col='recovered_per_day_ma7',\n",
    "            weights=weights,\n",
    "            max_iters=1000,\n",
    "            save_params_every=500,\n",
    "            verbose=False)\n",
    "        fitter.fit(model, train_df)\n",
    "\n",
    "        train_initial_conditions = model.get_initial_conditions(train_df)\n",
    "        train_states, history = model.predict(train_t, train_initial_conditions, history=False)\n",
    "\n",
    "        test_initial_conds = [compartment[-1] for compartment in train_states]\n",
    "        test_states, history = model.predict(eval_t, test_initial_conds, history=False)\n",
    "\n",
    "        return model, fitter, test_states\n",
    "                \n",
    "    models, fitters, model_predictions, train_dfs, test_dfs = eval_on_select_dates_and_k_days_ahead(df,\n",
    "                                                                         eval_func=eval_hidden_moscow, \n",
    "                                                                         eval_dates=eval_dates, \n",
    "                                                                         k=K)\n",
    "    model_pred_D = [pred[7] for pred in model_predictions]\n",
    "    true_D = [tdf.total_dead.values for tdf in test_dfs]\n",
    "    overall_errors_model = [mean_absolute_error(true, pred) for true, pred in zip(true_D, model_pred_D)]\n",
    "    return np.mean(overall_errors_model), np.std(overall_errors_model)\n",
    "\n",
    "def grid_search(n_jobs=6):\n",
    "    K = 30\n",
    "    eval_dates = pd.date_range(start='2020-06-01', end='2020-12-01')[::20]\n",
    "    hparams = []\n",
    "    \n",
    "    for wi in np.linspace(0.1, 1, 10):\n",
    "        for wr in np.linspace(0.1, 1, 10):\n",
    "            for wd in np.linspace(0.1, 1, 10):\n",
    "                if (wi.round(1) + wr.round(1) + wd.round(1)) != 1:\n",
    "                    continue                    \n",
    "                for stepwise_size in np.linspace(10, 60, 6):\n",
    "                    stepwise_size = int(stepwise_size)\n",
    "                    weights = {\n",
    "                        'I': wi,\n",
    "                        'R': wr,\n",
    "                        'D': wd,\n",
    "                    }\n",
    "                    hparams.append(dict(weights=weights, stepwise_size=stepwise_size))\n",
    "    \n",
    "    def eval_hparams(hp):\n",
    "        weights = hp['weights']\n",
    "        stepwise_size = hp['stepwise_size']\n",
    "        \n",
    "        error, std = get_error(stepwise_size, weights, eval_dates, K=K)\n",
    "        return error, std\n",
    "        \n",
    "    results = Parallel(n_jobs=n_jobs)(delayed(eval_hparams)(hp) for hp in tqdm(hparams))\n",
    "    \n",
    "    return hparams, results\n",
    "\n"
   ]
  },
  {
   "cell_type": "code",
   "execution_count": null,
   "metadata": {},
   "outputs": [],
   "source": [
    "hparams, results = grid_search()"
   ]
  },
  {
   "cell_type": "code",
   "execution_count": null,
   "metadata": {},
   "outputs": [],
   "source": [
    "errors = [r[0] for r in results]\n",
    "error_stds = [r[1] for r in results]\n",
    "results_df = pd.DataFrame({'error': errors, 'std': error_stds})"
   ]
  },
  {
   "cell_type": "code",
   "execution_count": null,
   "metadata": {},
   "outputs": [],
   "source": [
    "results_df.sort_values(by=['error', 'std'], ascending=True)"
   ]
  },
  {
   "cell_type": "code",
   "execution_count": null,
   "metadata": {},
   "outputs": [],
   "source": [
    "best_idx = results_df.sort_values(by=['error', 'std'], ascending=True).index[0]\n",
    "best_params = hparams[best_idx]\n",
    "print('Best params', str(best_params))"
   ]
  },
  {
   "cell_type": "code",
   "execution_count": null,
   "metadata": {},
   "outputs": [],
   "source": []
  }
 ],
 "metadata": {
  "kernelspec": {
   "display_name": "Python 3",
   "language": "python",
   "name": "python3"
  },
  "language_info": {
   "codemirror_mode": {
    "name": "ipython",
    "version": 3
   },
   "file_extension": ".py",
   "mimetype": "text/x-python",
   "name": "python",
   "nbconvert_exporter": "python",
   "pygments_lexer": "ipython3",
   "version": "3.8.5"
  }
 },
 "nbformat": 4,
 "nbformat_minor": 4
}
