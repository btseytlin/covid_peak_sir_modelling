{
 "cells": [
  {
   "cell_type": "markdown",
   "metadata": {},
   "source": [
    "# |In this notebook we fit a SEIR model to the Moscow Covid-19 data"
   ]
  },
  {
   "cell_type": "code",
   "execution_count": 140,
   "metadata": {},
   "outputs": [],
   "source": [
    "import numpy as np\n",
    "import pandas as pd\n",
    "import seaborn as sns\n",
    "from matplotlib import pyplot as plt\n",
    "from scipy.integrate import odeint\n",
    "import lmfit\n",
    "from tqdm.auto import tqdm"
   ]
  },
  {
   "cell_type": "code",
   "execution_count": 141,
   "metadata": {},
   "outputs": [],
   "source": [
    "sns.set()\n",
    "%matplotlib inline"
   ]
  },
  {
   "cell_type": "code",
   "execution_count": 142,
   "metadata": {},
   "outputs": [
    {
     "name": "stdout",
     "output_type": "stream",
     "text": [
      "The autoreload extension is already loaded. To reload it, use:\n",
      "  %reload_ext autoreload\n"
     ]
    }
   ],
   "source": [
    "%load_ext autoreload"
   ]
  },
  {
   "cell_type": "code",
   "execution_count": 143,
   "metadata": {},
   "outputs": [],
   "source": [
    "%autoreload 2"
   ]
  },
  {
   "cell_type": "code",
   "execution_count": 144,
   "metadata": {},
   "outputs": [],
   "source": [
    "from sir_models.seir import SEIR, DayAheadFitter, CurveFitter\n",
    "from sir_models.utils import stepwise"
   ]
  },
  {
   "cell_type": "markdown",
   "metadata": {},
   "source": [
    "# Load data"
   ]
  },
  {
   "cell_type": "code",
   "execution_count": 145,
   "metadata": {},
   "outputs": [],
   "source": [
    "df = pd.read_csv('data/moscow_prepared.csv', parse_dates=['date'])"
   ]
  },
  {
   "cell_type": "markdown",
   "metadata": {},
   "source": [
    "# Model"
   ]
  },
  {
   "cell_type": "code",
   "execution_count": 146,
   "metadata": {},
   "outputs": [],
   "source": [
    "train_subset = df[(df.date >= '2020-03-25') & (df.date <= '2020-11-30')]"
   ]
  },
  {
   "cell_type": "code",
   "execution_count": 147,
   "metadata": {},
   "outputs": [
    {
     "data": {
      "text/plain": [
       "264   2020-12-01\n",
       "265   2020-12-02\n",
       "266   2020-12-03\n",
       "Name: date, dtype: datetime64[ns]"
      ]
     },
     "execution_count": 147,
     "metadata": {},
     "output_type": "execute_result"
    }
   ],
   "source": [
    "test_subset = df[df.date > train_subset.iloc[-1].date]\n",
    "test_subset.date[:3]"
   ]
  },
  {
   "cell_type": "code",
   "execution_count": null,
   "metadata": {},
   "outputs": [
    {
     "name": "stdout",
     "output_type": "stream",
     "text": [
      "MAE: 7686.145908875428\n",
      "MAE: 7686.145908875428\n",
      "MAE: 7686.145908875428\n",
      "MAE: 7686.1462805682995\n",
      "MAE: 7686.145858858899\n",
      "MAE: 7686.145852503804\n",
      "MAE: 7686.145912519189\n",
      "MAE: 7686.145908702147\n",
      "MAE: 7686.145907882512\n",
      "MAE: 23967.02043662139\n",
      "MAE: 29522.980255354523\n",
      "MAE: 3182.8434143797367\n",
      "MAE: 3182.843400648422\n",
      "MAE: 3182.8434112678715\n",
      "MAE: 3182.843419534659\n",
      "MAE: 3182.8434100164086\n",
      "MAE: 3182.8434262800934\n",
      "MAE: 3182.8434184236276\n",
      "MAE: 2143.7338235828847\n",
      "MAE: 2143.733814839269\n",
      "MAE: 2143.7336734371906\n",
      "MAE: 2143.733704352233\n",
      "MAE: 2143.733669396816\n",
      "MAE: 2143.7338196841542\n",
      "MAE: 2143.7338261512878\n",
      "MAE: 24654.9921518736\n",
      "MAE: 2095.430081698885\n",
      "MAE: 2095.4300729213514\n",
      "MAE: 2095.430080060209\n",
      "MAE: 2095.4300765295643\n",
      "MAE: 2095.43007712309\n",
      "MAE: 2095.430079612773\n",
      "MAE: 2095.4300790051884\n",
      "MAE: 2259.217662931757\n",
      "MAE: 2079.393545544749\n",
      "MAE: 2079.3935485933043\n",
      "MAE: 2079.393544673625\n",
      "MAE: 2079.3935445436923\n",
      "MAE: 2079.393554256439\n",
      "MAE: 2079.393544844113\n",
      "MAE: 2079.3935446904757\n",
      "MAE: 2079.81024756905\n",
      "MAE: 2079.810257754875\n",
      "MAE: 2079.8102515931755\n",
      "MAE: 2079.8102464796207\n",
      "MAE: 2079.8102508037005\n",
      "MAE: 2079.8102522308595\n",
      "MAE: 2079.810249543025\n",
      "MAE: 2083.020152584163\n",
      "MAE: 2083.020156329311\n",
      "MAE: 2083.020153735509\n",
      "MAE: 2083.020150212054\n",
      "MAE: 2083.0201509790977\n"
     ]
    }
   ],
   "source": [
    "model = SEIR()\n",
    "fitter = CurveFitter()\n",
    "fitter.fit(model, train_subset)"
   ]
  },
  {
   "cell_type": "code",
   "execution_count": null,
   "metadata": {},
   "outputs": [],
   "source": [
    "result = fitter.result\n",
    "result"
   ]
  },
  {
   "cell_type": "code",
   "execution_count": null,
   "metadata": {},
   "outputs": [],
   "source": [
    "plt.figure()\n",
    "history.rt.plot()\n",
    "history.beta.plot()\n",
    "plt.legend()\n",
    "plt.show()"
   ]
  },
  {
   "cell_type": "code",
   "execution_count": null,
   "metadata": {},
   "outputs": [],
   "source": [
    "train_initial_conditions = model.get_initial_conditions(train_subset)\n",
    "train_t = np.arange(len(train_subset))\n",
    "\n",
    "(S, E, I, R, D), history = model.predict(train_t, train_initial_conditions)"
   ]
  },
  {
   "cell_type": "code",
   "execution_count": null,
   "metadata": {},
   "outputs": [],
   "source": [
    "plt.figure(figsize=(10, 7))\n",
    "plt.plot(train_subset.date, I, label='infected')\n",
    "plt.plot(train_subset.date, E, label='exposed')\n",
    "plt.plot(train_subset.date, D, label='dead')\n",
    "plt.legend()\n",
    "plt.show()"
   ]
  },
  {
   "cell_type": "code",
   "execution_count": null,
   "metadata": {},
   "outputs": [],
   "source": [
    "plt.figure(figsize=(10, 7))\n",
    "plt.plot(history.new_infected, label='daily infected')\n",
    "plt.plot(history.new_dead, label='daily deaths')\n",
    "plt.plot(history.new_recovered, label='daily recovered')\n",
    "plt.legend()\n",
    "plt.show()"
   ]
  },
  {
   "cell_type": "code",
   "execution_count": null,
   "metadata": {},
   "outputs": [],
   "source": [
    "plt.figure(figsize=(10, 7))\n",
    "plt.plot(train_subset.date, train_subset['total_recovered'], label='ground truth')\n",
    "plt.plot(train_subset.date, R, label='predicted')\n",
    "plt.legend()\n",
    "plt.title('Recovered')\n",
    "plt.show()"
   ]
  },
  {
   "cell_type": "code",
   "execution_count": null,
   "metadata": {},
   "outputs": [],
   "source": [
    "plt.figure(figsize=(10, 7))\n",
    "plt.plot(train_subset.date, train_subset['total_dead'], label='ground truth')\n",
    "plt.plot(train_subset.date, D, label='predicted')\n",
    "plt.legend()\n",
    "plt.title('Total deaths')\n",
    "plt.show()"
   ]
  },
  {
   "cell_type": "code",
   "execution_count": null,
   "metadata": {},
   "outputs": [],
   "source": [
    "plt.figure(figsize=(10, 7))\n",
    "plt.plot(train_subset.date, train_subset['total_recovered'], label='ground truth')\n",
    "plt.plot(train_subset.date, R, label='predicted')\n",
    "plt.legend()\n",
    "plt.title('Total recovered')\n",
    "plt.show()"
   ]
  },
  {
   "cell_type": "code",
   "execution_count": null,
   "metadata": {},
   "outputs": [],
   "source": [
    "plt.figure(figsize=(10, 7))\n",
    "plt.plot(train_subset.date, train_subset['infected'], label='ground truth')\n",
    "plt.plot(train_subset.date, I, label='predicted')\n",
    "plt.legend()\n",
    "plt.title('Active cases')\n",
    "plt.show()"
   ]
  },
  {
   "cell_type": "code",
   "execution_count": null,
   "metadata": {},
   "outputs": [],
   "source": [
    "plt.figure(figsize=(10, 7))\n",
    "plt.plot(np.arange(len(train_subset)), train_subset['infected_per_day'], label='ground truth')\n",
    "plt.plot(history.new_infected, label='predicted')\n",
    "plt.legend()\n",
    "plt.title('Daily new cases')\n",
    "plt.show()"
   ]
  },
  {
   "cell_type": "markdown",
   "metadata": {},
   "source": [
    "# Obtain forecast"
   ]
  },
  {
   "cell_type": "code",
   "execution_count": null,
   "metadata": {},
   "outputs": [],
   "source": [
    "test_t = len(train_subset) + np.arange(len(test_subset))"
   ]
  },
  {
   "cell_type": "code",
   "execution_count": null,
   "metadata": {},
   "outputs": [],
   "source": [
    "train_t, test_t"
   ]
  },
  {
   "cell_type": "code",
   "execution_count": null,
   "metadata": {},
   "outputs": [],
   "source": [
    "test_initial_conds = (S[-1], E[-1], I[-1], R[-1], D[-1])"
   ]
  },
  {
   "cell_type": "code",
   "execution_count": null,
   "metadata": {},
   "outputs": [],
   "source": [
    "(test_S, test_E, test_I, test_R, test_D), history = model.predict(test_t, test_initial_conds)"
   ]
  },
  {
   "cell_type": "code",
   "execution_count": null,
   "metadata": {},
   "outputs": [],
   "source": [
    "plt.figure(figsize=(10, 7))\n",
    "plt.plot(train_subset.date, train_subset['total_dead'], label='train ground truth')\n",
    "plt.plot(train_subset.date, D, label='train fit')\n",
    "\n",
    "plt.plot(test_subset.date, test_subset['total_dead'], label='test ground truth', color='red')\n",
    "plt.plot(test_subset.date, test_D, label='test forecasted', color='red', linestyle=':')\n",
    "plt.legend()\n",
    "plt.title('Total deaths')\n",
    "plt.show()"
   ]
  },
  {
   "cell_type": "code",
   "execution_count": null,
   "metadata": {},
   "outputs": [],
   "source": [
    "plt.figure(figsize=(10, 7))\n",
    "plt.plot(train_subset.date, train_subset['infected'], label='train ground truth')\n",
    "plt.plot(train_subset.date, I, label='train fit')\n",
    "\n",
    "plt.plot(test_subset.date, test_subset['infected'], label='test ground truth', color='red')\n",
    "plt.plot(test_subset.date, test_I, label='test forecasted', color='red', linestyle=':')\n",
    "plt.legend()\n",
    "plt.title('Active cases')\n",
    "plt.show()"
   ]
  },
  {
   "cell_type": "code",
   "execution_count": null,
   "metadata": {},
   "outputs": [],
   "source": [
    "plt.figure(figsize=(10, 7))\n",
    "plt.plot(train_subset.date, train_subset['infected'].cumsum(), label='train ground truth')\n",
    "plt.plot(train_subset.date, I.cumsum(), label='train fit')\n",
    "\n",
    "plt.plot(test_subset.date, train_subset['infected'].sum()+test_subset['infected'].cumsum(), label='test ground truth', color='red')\n",
    "plt.plot(test_subset.date, I.sum()+test_I.cumsum(), label='test forecasted', color='red', linestyle=':')\n",
    "plt.legend()\n",
    "plt.title('Cumulative Infected')\n",
    "plt.show()"
   ]
  },
  {
   "cell_type": "code",
   "execution_count": null,
   "metadata": {},
   "outputs": [],
   "source": [
    "plt.figure(figsize=(10, 7))\n",
    "plt.plot(train_subset.date, train_subset['infected_per_day'].cumsum(), label='train ground truth')\n",
    "plt.plot(train_subset.date, (pd.Series(I).diff() + pd.Series(R).diff() + pd.Series(D).diff()).cumsum(), label='train fit')\n",
    "\n",
    "plt.plot(test_subset.date, train_subset['infected_per_day'].sum()+test_subset['infected_per_day'].cumsum(), label='test ground truth', color='red')\n",
    "plt.plot(test_subset.date,  (pd.Series(I).diff() + pd.Series(R).diff() + pd.Series(D).diff()).sum()+(pd.Series(test_I).diff() + pd.Series(test_R).diff() + pd.Series(test_D).diff()).cumsum(), label='test forecasted', color='red', linestyle=':')\n",
    "plt.legend()\n",
    "plt.title('Cumulative new cases')\n",
    "plt.show()"
   ]
  },
  {
   "cell_type": "markdown",
   "metadata": {},
   "source": [
    "# 1-day ahead evaluate"
   ]
  },
  {
   "cell_type": "code",
   "execution_count": null,
   "metadata": {},
   "outputs": [],
   "source": [
    "from sklearn.metrics import mean_absolute_error"
   ]
  },
  {
   "cell_type": "code",
   "execution_count": null,
   "metadata": {},
   "outputs": [],
   "source": [
    "n_eval_points = 10\n",
    "eval_period_start = '2020-05-01'\n",
    "eval_df = df[df.date >= eval_period_start].sample(n_eval_points)\n",
    "pred_dates = []\n",
    "\n",
    "true_D, true_R = [], []\n",
    "\n",
    "baseline_pred_D, baseline_pred_R = [], []\n",
    "model_pred_D, model_pred_R = [], []\n",
    "\n",
    "for row in tqdm(eval_df.itertuples(), total=len(eval_df)):\n",
    "    train_df = df.iloc[:row.Index]\n",
    "    \n",
    "    pred_dates.append(row.date)\n",
    "    prev_day = train_df.iloc[-1]\n",
    "    pred_D = prev_day.total_dead\n",
    "    pred_R = prev_day.total_recovered\n",
    "    \n",
    "    model = SEIR(verbose=False)\n",
    "    fitter = DayAheadFitter()\n",
    "    fitter.fit(model, train_df)\n",
    "    \n",
    "    train_initial_conditions = model.get_initial_conditions(train_df)\n",
    "    train_t = np.arange(len(train_df))\n",
    "    (S, E, I, R, D), history = model.predict(train_t, train_initial_conditions)\n",
    "    \n",
    "    test_initial_conds = (S[-1], E[-1], I[-1], R[-1], D[-1])\n",
    "    \n",
    "    (S, E, I, R, D), history = model.predict([train_t[-1], train_t[-1]+1], test_initial_conds)\n",
    "    \n",
    "    \n",
    "    model_pred_D.append(D[-1])\n",
    "    model_pred_R.append(R[-1])\n",
    "    baseline_pred_D.append(pred_D)\n",
    "    baseline_pred_R.append(pred_R)\n",
    "    true_D.append(row.total_dead)\n",
    "    true_R.append(row.total_recovered)\n",
    "\n"
   ]
  },
  {
   "cell_type": "code",
   "execution_count": null,
   "metadata": {},
   "outputs": [],
   "source": [
    "baseline_D_mae = mean_absolute_error(true_D, baseline_pred_D)\n",
    "baseline_R_mae = mean_absolute_error(true_R, baseline_pred_R)\n",
    "\n",
    "model_D_mae = mean_absolute_error(true_D, model_pred_D)\n",
    "model_R_mae = mean_absolute_error(true_R, model_pred_R)\n",
    "\n",
    "print('Baseline D mae', round(baseline_D_mae, 3))\n",
    "print('Model D mae', round(model_D_mae, 3))\n",
    "\n",
    "print('Baseline R mae', round(baseline_R_mae, 3))\n",
    "print('Model R mae', round(model_R_mae, 3))"
   ]
  },
  {
   "cell_type": "code",
   "execution_count": null,
   "metadata": {},
   "outputs": [],
   "source": []
  }
 ],
 "metadata": {
  "kernelspec": {
   "display_name": "Python 3",
   "language": "python",
   "name": "python3"
  },
  "language_info": {
   "codemirror_mode": {
    "name": "ipython",
    "version": 3
   },
   "file_extension": ".py",
   "mimetype": "text/x-python",
   "name": "python",
   "nbconvert_exporter": "python",
   "pygments_lexer": "ipython3",
   "version": "3.8.5"
  }
 },
 "nbformat": 4,
 "nbformat_minor": 4
}
