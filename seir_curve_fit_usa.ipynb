{
 "cells": [
  {
   "cell_type": "markdown",
   "metadata": {},
   "source": [
    "# SEIR USA "
   ]
  },
  {
   "cell_type": "code",
   "execution_count": 1,
   "metadata": {},
   "outputs": [],
   "source": [
    "import numpy as np\n",
    "import pandas as pd\n",
    "import seaborn as sns\n",
    "from matplotlib import pyplot as plt\n",
    "from scipy.integrate import odeint\n",
    "import lmfit"
   ]
  },
  {
   "cell_type": "code",
   "execution_count": 2,
   "metadata": {},
   "outputs": [],
   "source": [
    "sns.set()\n",
    "%matplotlib inline"
   ]
  },
  {
   "cell_type": "code",
   "execution_count": 3,
   "metadata": {},
   "outputs": [],
   "source": [
    "%load_ext autoreload"
   ]
  },
  {
   "cell_type": "code",
   "execution_count": 4,
   "metadata": {},
   "outputs": [],
   "source": [
    "%autoreload 2"
   ]
  },
  {
   "cell_type": "code",
   "execution_count": 5,
   "metadata": {},
   "outputs": [],
   "source": [
    "from sir_models.seir import SEIR"
   ]
  },
  {
   "cell_type": "markdown",
   "metadata": {},
   "source": [
    "# Load data"
   ]
  },
  {
   "cell_type": "code",
   "execution_count": 57,
   "metadata": {},
   "outputs": [],
   "source": [
    "df = pd.read_csv('data/United_States_COVID-19_Cases_and_Deaths_by_State_over_Time.csv', sep=',')"
   ]
  },
  {
   "cell_type": "code",
   "execution_count": 58,
   "metadata": {},
   "outputs": [
    {
     "data": {
      "text/html": [
       "<div>\n",
       "<style scoped>\n",
       "    .dataframe tbody tr th:only-of-type {\n",
       "        vertical-align: middle;\n",
       "    }\n",
       "\n",
       "    .dataframe tbody tr th {\n",
       "        vertical-align: top;\n",
       "    }\n",
       "\n",
       "    .dataframe thead th {\n",
       "        text-align: right;\n",
       "    }\n",
       "</style>\n",
       "<table border=\"1\" class=\"dataframe\">\n",
       "  <thead>\n",
       "    <tr style=\"text-align: right;\">\n",
       "      <th></th>\n",
       "      <th>submission_date</th>\n",
       "      <th>state</th>\n",
       "      <th>tot_cases</th>\n",
       "      <th>conf_cases</th>\n",
       "      <th>prob_cases</th>\n",
       "      <th>new_case</th>\n",
       "      <th>pnew_case</th>\n",
       "      <th>tot_death</th>\n",
       "      <th>conf_death</th>\n",
       "      <th>prob_death</th>\n",
       "      <th>new_death</th>\n",
       "      <th>pnew_death</th>\n",
       "      <th>created_at</th>\n",
       "      <th>consent_cases</th>\n",
       "      <th>consent_deaths</th>\n",
       "    </tr>\n",
       "  </thead>\n",
       "  <tbody>\n",
       "    <tr>\n",
       "      <th>0</th>\n",
       "      <td>05/04/2020</td>\n",
       "      <td>KY</td>\n",
       "      <td>5245</td>\n",
       "      <td>5245.0</td>\n",
       "      <td>0.0</td>\n",
       "      <td>115</td>\n",
       "      <td>0.0</td>\n",
       "      <td>261</td>\n",
       "      <td>261.0</td>\n",
       "      <td>0.0</td>\n",
       "      <td>8</td>\n",
       "      <td>0.0</td>\n",
       "      <td>05/05/2020 05:25:08 PM</td>\n",
       "      <td>Agree</td>\n",
       "      <td>Agree</td>\n",
       "    </tr>\n",
       "    <tr>\n",
       "      <th>1</th>\n",
       "      <td>12/08/2020</td>\n",
       "      <td>OK</td>\n",
       "      <td>205999</td>\n",
       "      <td>171497.0</td>\n",
       "      <td>34502.0</td>\n",
       "      <td>0</td>\n",
       "      <td>0.0</td>\n",
       "      <td>1752</td>\n",
       "      <td>1680.0</td>\n",
       "      <td>72.0</td>\n",
       "      <td>0</td>\n",
       "      <td>0.0</td>\n",
       "      <td>12/09/2020 02:45:40 PM</td>\n",
       "      <td>Agree</td>\n",
       "      <td>Agree</td>\n",
       "    </tr>\n",
       "    <tr>\n",
       "      <th>2</th>\n",
       "      <td>08/21/2020</td>\n",
       "      <td>MD</td>\n",
       "      <td>103523</td>\n",
       "      <td>NaN</td>\n",
       "      <td>NaN</td>\n",
       "      <td>624</td>\n",
       "      <td>0.0</td>\n",
       "      <td>3685</td>\n",
       "      <td>3546.0</td>\n",
       "      <td>139.0</td>\n",
       "      <td>11</td>\n",
       "      <td>1.0</td>\n",
       "      <td>08/22/2020 02:21:09 PM</td>\n",
       "      <td>NaN</td>\n",
       "      <td>Agree</td>\n",
       "    </tr>\n",
       "    <tr>\n",
       "      <th>3</th>\n",
       "      <td>04/01/2020</td>\n",
       "      <td>MN</td>\n",
       "      <td>742</td>\n",
       "      <td>NaN</td>\n",
       "      <td>NaN</td>\n",
       "      <td>53</td>\n",
       "      <td>NaN</td>\n",
       "      <td>18</td>\n",
       "      <td>NaN</td>\n",
       "      <td>NaN</td>\n",
       "      <td>1</td>\n",
       "      <td>NaN</td>\n",
       "      <td>03/31/2020 04:22:39 PM</td>\n",
       "      <td>NaN</td>\n",
       "      <td>Agree</td>\n",
       "    </tr>\n",
       "    <tr>\n",
       "      <th>4</th>\n",
       "      <td>06/25/2020</td>\n",
       "      <td>NE</td>\n",
       "      <td>18346</td>\n",
       "      <td>NaN</td>\n",
       "      <td>NaN</td>\n",
       "      <td>125</td>\n",
       "      <td>0.0</td>\n",
       "      <td>260</td>\n",
       "      <td>NaN</td>\n",
       "      <td>NaN</td>\n",
       "      <td>3</td>\n",
       "      <td>0.0</td>\n",
       "      <td>06/26/2020 07:18:27 PM</td>\n",
       "      <td>Not agree</td>\n",
       "      <td>Not agree</td>\n",
       "    </tr>\n",
       "  </tbody>\n",
       "</table>\n",
       "</div>"
      ],
      "text/plain": [
       "  submission_date state  tot_cases  conf_cases  prob_cases  new_case  \\\n",
       "0      05/04/2020    KY       5245      5245.0         0.0       115   \n",
       "1      12/08/2020    OK     205999    171497.0     34502.0         0   \n",
       "2      08/21/2020    MD     103523         NaN         NaN       624   \n",
       "3      04/01/2020    MN        742         NaN         NaN        53   \n",
       "4      06/25/2020    NE      18346         NaN         NaN       125   \n",
       "\n",
       "   pnew_case  tot_death  conf_death  prob_death  new_death  pnew_death  \\\n",
       "0        0.0        261       261.0         0.0          8         0.0   \n",
       "1        0.0       1752      1680.0        72.0          0         0.0   \n",
       "2        0.0       3685      3546.0       139.0         11         1.0   \n",
       "3        NaN         18         NaN         NaN          1         NaN   \n",
       "4        0.0        260         NaN         NaN          3         0.0   \n",
       "\n",
       "               created_at consent_cases consent_deaths  \n",
       "0  05/05/2020 05:25:08 PM         Agree          Agree  \n",
       "1  12/09/2020 02:45:40 PM         Agree          Agree  \n",
       "2  08/22/2020 02:21:09 PM           NaN          Agree  \n",
       "3  03/31/2020 04:22:39 PM           NaN          Agree  \n",
       "4  06/26/2020 07:18:27 PM     Not agree      Not agree  "
      ]
     },
     "execution_count": 58,
     "metadata": {},
     "output_type": "execute_result"
    }
   ],
   "source": [
    "df.head()"
   ]
  },
  {
   "cell_type": "code",
   "execution_count": 59,
   "metadata": {},
   "outputs": [],
   "source": [
    "df['date'] = pd.to_datetime(df['submission_date'], format='%m/%d/%Y')\n",
    "\n",
    "df['total_infected'] = df['tot_cases']\n",
    "df['infected_per_day'] = df['new_case'] \n",
    "df['total_dead'] = df['tot_death']\n",
    "df['dead_per_day'] = df['new_death']\n",
    "#df['total_recovered'] = df['total_infected'] - df['total_dead']\n",
    "\n",
    "#df['infected'] = df['total_infected'] - df['total_recovered'] - df['total_dead']\n",
    "\n",
    "df = df[['state', 'date', 'total_infected', 'infected_per_day', 'total_dead', 'dead_per_day']]"
   ]
  },
  {
   "cell_type": "code",
   "execution_count": 60,
   "metadata": {},
   "outputs": [
    {
     "data": {
      "text/html": [
       "<div>\n",
       "<style scoped>\n",
       "    .dataframe tbody tr th:only-of-type {\n",
       "        vertical-align: middle;\n",
       "    }\n",
       "\n",
       "    .dataframe tbody tr th {\n",
       "        vertical-align: top;\n",
       "    }\n",
       "\n",
       "    .dataframe thead th {\n",
       "        text-align: right;\n",
       "    }\n",
       "</style>\n",
       "<table border=\"1\" class=\"dataframe\">\n",
       "  <thead>\n",
       "    <tr style=\"text-align: right;\">\n",
       "      <th></th>\n",
       "      <th>state</th>\n",
       "      <th>date</th>\n",
       "      <th>total_infected</th>\n",
       "      <th>infected_per_day</th>\n",
       "      <th>total_dead</th>\n",
       "      <th>dead_per_day</th>\n",
       "    </tr>\n",
       "  </thead>\n",
       "  <tbody>\n",
       "    <tr>\n",
       "      <th>0</th>\n",
       "      <td>KY</td>\n",
       "      <td>2020-05-04</td>\n",
       "      <td>5245</td>\n",
       "      <td>115</td>\n",
       "      <td>261</td>\n",
       "      <td>8</td>\n",
       "    </tr>\n",
       "    <tr>\n",
       "      <th>1</th>\n",
       "      <td>OK</td>\n",
       "      <td>2020-12-08</td>\n",
       "      <td>205999</td>\n",
       "      <td>0</td>\n",
       "      <td>1752</td>\n",
       "      <td>0</td>\n",
       "    </tr>\n",
       "    <tr>\n",
       "      <th>2</th>\n",
       "      <td>MD</td>\n",
       "      <td>2020-08-21</td>\n",
       "      <td>103523</td>\n",
       "      <td>624</td>\n",
       "      <td>3685</td>\n",
       "      <td>11</td>\n",
       "    </tr>\n",
       "    <tr>\n",
       "      <th>3</th>\n",
       "      <td>MN</td>\n",
       "      <td>2020-04-01</td>\n",
       "      <td>742</td>\n",
       "      <td>53</td>\n",
       "      <td>18</td>\n",
       "      <td>1</td>\n",
       "    </tr>\n",
       "    <tr>\n",
       "      <th>4</th>\n",
       "      <td>NE</td>\n",
       "      <td>2020-06-25</td>\n",
       "      <td>18346</td>\n",
       "      <td>125</td>\n",
       "      <td>260</td>\n",
       "      <td>3</td>\n",
       "    </tr>\n",
       "  </tbody>\n",
       "</table>\n",
       "</div>"
      ],
      "text/plain": [
       "  state       date  total_infected  infected_per_day  total_dead  dead_per_day\n",
       "0    KY 2020-05-04            5245               115         261             8\n",
       "1    OK 2020-12-08          205999                 0        1752             0\n",
       "2    MD 2020-08-21          103523               624        3685            11\n",
       "3    MN 2020-04-01             742                53          18             1\n",
       "4    NE 2020-06-25           18346               125         260             3"
      ]
     },
     "execution_count": 60,
     "metadata": {},
     "output_type": "execute_result"
    }
   ],
   "source": [
    "df.head()"
   ]
  },
  {
   "cell_type": "code",
   "execution_count": 61,
   "metadata": {},
   "outputs": [],
   "source": [
    "df = df.sort_values(by='date')\n",
    "df = df[df.state == 'NY'].reset_index(drop=True)\n",
    "df.index = df.date\n",
    "#df = df.groupby('date').sum().reset_index()"
   ]
  },
  {
   "cell_type": "code",
   "execution_count": 62,
   "metadata": {},
   "outputs": [
    {
     "data": {
      "text/html": [
       "<div>\n",
       "<style scoped>\n",
       "    .dataframe tbody tr th:only-of-type {\n",
       "        vertical-align: middle;\n",
       "    }\n",
       "\n",
       "    .dataframe tbody tr th {\n",
       "        vertical-align: top;\n",
       "    }\n",
       "\n",
       "    .dataframe thead th {\n",
       "        text-align: right;\n",
       "    }\n",
       "</style>\n",
       "<table border=\"1\" class=\"dataframe\">\n",
       "  <thead>\n",
       "    <tr style=\"text-align: right;\">\n",
       "      <th></th>\n",
       "      <th>state</th>\n",
       "      <th>date</th>\n",
       "      <th>total_infected</th>\n",
       "      <th>infected_per_day</th>\n",
       "      <th>total_dead</th>\n",
       "      <th>dead_per_day</th>\n",
       "    </tr>\n",
       "    <tr>\n",
       "      <th>date</th>\n",
       "      <th></th>\n",
       "      <th></th>\n",
       "      <th></th>\n",
       "      <th></th>\n",
       "      <th></th>\n",
       "      <th></th>\n",
       "    </tr>\n",
       "  </thead>\n",
       "  <tbody>\n",
       "    <tr>\n",
       "      <th>2020-01-22</th>\n",
       "      <td>NY</td>\n",
       "      <td>2020-01-22</td>\n",
       "      <td>0</td>\n",
       "      <td>0</td>\n",
       "      <td>0</td>\n",
       "      <td>0</td>\n",
       "    </tr>\n",
       "    <tr>\n",
       "      <th>2020-01-23</th>\n",
       "      <td>NY</td>\n",
       "      <td>2020-01-23</td>\n",
       "      <td>0</td>\n",
       "      <td>0</td>\n",
       "      <td>0</td>\n",
       "      <td>0</td>\n",
       "    </tr>\n",
       "    <tr>\n",
       "      <th>2020-01-24</th>\n",
       "      <td>NY</td>\n",
       "      <td>2020-01-24</td>\n",
       "      <td>0</td>\n",
       "      <td>0</td>\n",
       "      <td>0</td>\n",
       "      <td>0</td>\n",
       "    </tr>\n",
       "    <tr>\n",
       "      <th>2020-01-25</th>\n",
       "      <td>NY</td>\n",
       "      <td>2020-01-25</td>\n",
       "      <td>0</td>\n",
       "      <td>0</td>\n",
       "      <td>0</td>\n",
       "      <td>0</td>\n",
       "    </tr>\n",
       "    <tr>\n",
       "      <th>2020-01-26</th>\n",
       "      <td>NY</td>\n",
       "      <td>2020-01-26</td>\n",
       "      <td>0</td>\n",
       "      <td>0</td>\n",
       "      <td>0</td>\n",
       "      <td>0</td>\n",
       "    </tr>\n",
       "  </tbody>\n",
       "</table>\n",
       "</div>"
      ],
      "text/plain": [
       "           state       date  total_infected  infected_per_day  total_dead  \\\n",
       "date                                                                        \n",
       "2020-01-22    NY 2020-01-22               0                 0           0   \n",
       "2020-01-23    NY 2020-01-23               0                 0           0   \n",
       "2020-01-24    NY 2020-01-24               0                 0           0   \n",
       "2020-01-25    NY 2020-01-25               0                 0           0   \n",
       "2020-01-26    NY 2020-01-26               0                 0           0   \n",
       "\n",
       "            dead_per_day  \n",
       "date                      \n",
       "2020-01-22             0  \n",
       "2020-01-23             0  \n",
       "2020-01-24             0  \n",
       "2020-01-25             0  \n",
       "2020-01-26             0  "
      ]
     },
     "execution_count": 62,
     "metadata": {},
     "output_type": "execute_result"
    }
   ],
   "source": [
    "df.head()"
   ]
  },
  {
   "cell_type": "code",
   "execution_count": 63,
   "metadata": {},
   "outputs": [
    {
     "data": {
      "text/plain": [
       "<matplotlib.axes._subplots.AxesSubplot at 0x7f5b2ea62190>"
      ]
     },
     "execution_count": 63,
     "metadata": {},
     "output_type": "execute_result"
    },
    {
     "data": {
      "image/png": "[encoded data removed]",
      "text/plain": [
       "<Figure size 432x288 with 1 Axes>"
      ]
     },
     "metadata": {
      "needs_background": "light"
     },
     "output_type": "display_data"
    }
   ],
   "source": [
    "df['total_infected'].plot()"
   ]
  },
  {
   "cell_type": "code",
   "execution_count": 65,
   "metadata": {},
   "outputs": [
    {
     "data": {
      "text/html": [
       "<div>\n",
       "<style scoped>\n",
       "    .dataframe tbody tr th:only-of-type {\n",
       "        vertical-align: middle;\n",
       "    }\n",
       "\n",
       "    .dataframe tbody tr th {\n",
       "        vertical-align: top;\n",
       "    }\n",
       "\n",
       "    .dataframe thead th {\n",
       "        text-align: right;\n",
       "    }\n",
       "</style>\n",
       "<table border=\"1\" class=\"dataframe\">\n",
       "  <thead>\n",
       "    <tr style=\"text-align: right;\">\n",
       "      <th></th>\n",
       "      <th>total_infected</th>\n",
       "      <th>infected_per_day</th>\n",
       "      <th>total_dead</th>\n",
       "      <th>dead_per_day</th>\n",
       "      <th>date</th>\n",
       "    </tr>\n",
       "    <tr>\n",
       "      <th>date</th>\n",
       "      <th></th>\n",
       "      <th></th>\n",
       "      <th></th>\n",
       "      <th></th>\n",
       "      <th></th>\n",
       "    </tr>\n",
       "  </thead>\n",
       "  <tbody>\n",
       "    <tr>\n",
       "      <th>2020-01-22</th>\n",
       "      <td>NaN</td>\n",
       "      <td>NaN</td>\n",
       "      <td>NaN</td>\n",
       "      <td>NaN</td>\n",
       "      <td>2020-01-22</td>\n",
       "    </tr>\n",
       "    <tr>\n",
       "      <th>2020-01-23</th>\n",
       "      <td>NaN</td>\n",
       "      <td>NaN</td>\n",
       "      <td>NaN</td>\n",
       "      <td>NaN</td>\n",
       "      <td>2020-01-23</td>\n",
       "    </tr>\n",
       "    <tr>\n",
       "      <th>2020-01-24</th>\n",
       "      <td>NaN</td>\n",
       "      <td>NaN</td>\n",
       "      <td>NaN</td>\n",
       "      <td>NaN</td>\n",
       "      <td>2020-01-24</td>\n",
       "    </tr>\n",
       "    <tr>\n",
       "      <th>2020-01-25</th>\n",
       "      <td>NaN</td>\n",
       "      <td>NaN</td>\n",
       "      <td>NaN</td>\n",
       "      <td>NaN</td>\n",
       "      <td>2020-01-25</td>\n",
       "    </tr>\n",
       "    <tr>\n",
       "      <th>2020-01-26</th>\n",
       "      <td>NaN</td>\n",
       "      <td>NaN</td>\n",
       "      <td>NaN</td>\n",
       "      <td>NaN</td>\n",
       "      <td>2020-01-26</td>\n",
       "    </tr>\n",
       "    <tr>\n",
       "      <th>2020-01-27</th>\n",
       "      <td>NaN</td>\n",
       "      <td>NaN</td>\n",
       "      <td>NaN</td>\n",
       "      <td>NaN</td>\n",
       "      <td>2020-01-27</td>\n",
       "    </tr>\n",
       "    <tr>\n",
       "      <th>2020-01-28</th>\n",
       "      <td>0.0</td>\n",
       "      <td>0.0</td>\n",
       "      <td>0.0</td>\n",
       "      <td>0.0</td>\n",
       "      <td>2020-01-28</td>\n",
       "    </tr>\n",
       "    <tr>\n",
       "      <th>2020-01-29</th>\n",
       "      <td>0.0</td>\n",
       "      <td>0.0</td>\n",
       "      <td>0.0</td>\n",
       "      <td>0.0</td>\n",
       "      <td>2020-01-29</td>\n",
       "    </tr>\n",
       "    <tr>\n",
       "      <th>2020-01-30</th>\n",
       "      <td>0.0</td>\n",
       "      <td>0.0</td>\n",
       "      <td>0.0</td>\n",
       "      <td>0.0</td>\n",
       "      <td>2020-01-30</td>\n",
       "    </tr>\n",
       "    <tr>\n",
       "      <th>2020-01-31</th>\n",
       "      <td>0.0</td>\n",
       "      <td>0.0</td>\n",
       "      <td>0.0</td>\n",
       "      <td>0.0</td>\n",
       "      <td>2020-01-31</td>\n",
       "    </tr>\n",
       "  </tbody>\n",
       "</table>\n",
       "</div>"
      ],
      "text/plain": [
       "            total_infected  infected_per_day  total_dead  dead_per_day  \\\n",
       "date                                                                     \n",
       "2020-01-22             NaN               NaN         NaN           NaN   \n",
       "2020-01-23             NaN               NaN         NaN           NaN   \n",
       "2020-01-24             NaN               NaN         NaN           NaN   \n",
       "2020-01-25             NaN               NaN         NaN           NaN   \n",
       "2020-01-26             NaN               NaN         NaN           NaN   \n",
       "2020-01-27             NaN               NaN         NaN           NaN   \n",
       "2020-01-28             0.0               0.0         0.0           0.0   \n",
       "2020-01-29             0.0               0.0         0.0           0.0   \n",
       "2020-01-30             0.0               0.0         0.0           0.0   \n",
       "2020-01-31             0.0               0.0         0.0           0.0   \n",
       "\n",
       "                 date  \n",
       "date                   \n",
       "2020-01-22 2020-01-22  \n",
       "2020-01-23 2020-01-23  \n",
       "2020-01-24 2020-01-24  \n",
       "2020-01-25 2020-01-25  \n",
       "2020-01-26 2020-01-26  \n",
       "2020-01-27 2020-01-27  \n",
       "2020-01-28 2020-01-28  \n",
       "2020-01-29 2020-01-29  \n",
       "2020-01-30 2020-01-30  \n",
       "2020-01-31 2020-01-31  "
      ]
     },
     "execution_count": 65,
     "metadata": {},
     "output_type": "execute_result"
    }
   ],
   "source": [
    "df_smoothed = df.drop(columns=['state']).rolling(7).mean()\n",
    "df_smoothed['date'] = df['date']\n",
    "df_smoothed.head(10)"
   ]
  },
  {
   "cell_type": "code",
   "execution_count": 68,
   "metadata": {},
   "outputs": [
    {
     "data": {
      "text/plain": [
       "Text(0.5, 1.0, 'Total infected smoothed')"
      ]
     },
     "execution_count": 68,
     "metadata": {},
     "output_type": "execute_result"
    },
    {
     "data": {
      "image/png": "[encoded data removed]",
      "text/plain": [
       "<Figure size 432x288 with 1 Axes>"
      ]
     },
     "metadata": {
      "needs_background": "light"
     },
     "output_type": "display_data"
    }
   ],
   "source": [
    "df_smoothed.total_infected.plot()\n",
    "plt.title('Total infected smoothed')"
   ]
  },
  {
   "cell_type": "code",
   "execution_count": 69,
   "metadata": {},
   "outputs": [
    {
     "data": {
      "text/plain": [
       "Text(0.5, 1.0, 'Total dead')"
      ]
     },
     "execution_count": 69,
     "metadata": {},
     "output_type": "execute_result"
    },
    {
     "data": {
      "image/png": "[encoded data removed]",
      "text/plain": [
       "<Figure size 432x288 with 1 Axes>"
      ]
     },
     "metadata": {
      "needs_background": "light"
     },
     "output_type": "display_data"
    }
   ],
   "source": [
    "df_smoothed.total_dead.plot()\n",
    "plt.title('Total dead')"
   ]
  },
  {
   "cell_type": "code",
   "execution_count": 70,
   "metadata": {},
   "outputs": [],
   "source": [
    "df = df_smoothed.dropna().reset_index(drop=True)"
   ]
  },
  {
   "cell_type": "markdown",
   "metadata": {},
   "source": [
    "### Modelling infection fear and quarantine measures"
   ]
  },
  {
   "cell_type": "code",
   "execution_count": 84,
   "metadata": {},
   "outputs": [
    {
     "data": {
      "image/png": "[encoded data removed]",
      "text/plain": [
       "<Figure size 432x288 with 1 Axes>"
      ]
     },
     "metadata": {
      "needs_background": "light"
     },
     "output_type": "display_data"
    }
   ],
   "source": [
    "beta_from_data = (df['total_infected'].diff() / df['total_infected'].diff().shift(1)).dropna().values\n",
    "plt.plot(beta_from_data)\n",
    "plt.title('Beta estimated from data')\n",
    "plt.show()"
   ]
  },
  {
   "cell_type": "code",
   "execution_count": 86,
   "metadata": {},
   "outputs": [
    {
     "data": {
      "text/plain": [
       "1.8719267436026013"
      ]
     },
     "execution_count": 86,
     "metadata": {},
     "output_type": "execute_result"
    }
   ],
   "source": [
    "beta_base = beta_from_data[20:].max()\n",
    "beta_base"
   ]
  },
  {
   "cell_type": "code",
   "execution_count": 88,
   "metadata": {},
   "outputs": [
    {
     "data": {
      "text/plain": [
       "Text(0.5, 1.0, 'Infection \"fear\"')"
      ]
     },
     "execution_count": 88,
     "metadata": {},
     "output_type": "execute_result"
    },
    {
     "data": {
      "image/png": "[encoded data removed]",
      "text/plain": [
       "<Figure size 432x288 with 1 Axes>"
      ]
     },
     "metadata": {
      "needs_background": "light"
     },
     "output_type": "display_data"
    }
   ],
   "source": [
    "fear = df['infected_per_day']/df['infected_per_day'].rolling(7).mean()\n",
    "plt.plot(fear)\n",
    "plt.title('Infection \"fear\"')"
   ]
  },
  {
   "cell_type": "code",
   "execution_count": 94,
   "metadata": {},
   "outputs": [
    {
     "data": {
      "text/plain": [
       "[]"
      ]
     },
     "execution_count": 94,
     "metadata": {},
     "output_type": "execute_result"
    },
    {
     "data": {
      "image/png": "[encoded data removed]",
      "text/plain": [
       "<Figure size 432x288 with 1 Axes>"
      ]
     },
     "metadata": {
      "needs_background": "light"
     },
     "output_type": "display_data"
    }
   ],
   "source": [
    "beta_fear = beta_base - 2 * 1/np.exp(fear)\n",
    "plt.plot(beta_fear, label='estimated beta')\n",
    "pd.Series(beta_from_data).rolling(7).mean().plot(label='data beta')\n",
    "plt.legend()\n",
    "plt.plot()"
   ]
  },
  {
   "cell_type": "code",
   "execution_count": 96,
   "metadata": {},
   "outputs": [
    {
     "data": {
      "text/plain": [
       "0           NaN\n",
       "1           NaN\n",
       "2           NaN\n",
       "3           NaN\n",
       "4           NaN\n",
       "         ...   \n",
       "358    1.073818\n",
       "359    1.092758\n",
       "360    1.069515\n",
       "361    1.067374\n",
       "362    1.072204\n",
       "Name: infected_per_day, Length: 363, dtype: float64"
      ]
     },
     "execution_count": 96,
     "metadata": {},
     "output_type": "execute_result"
    }
   ],
   "source": [
    "beta_fear"
   ]
  },
  {
   "cell_type": "code",
   "execution_count": 98,
   "metadata": {},
   "outputs": [
    {
     "data": {
      "text/plain": [
       "(1.1044505543266299, 0.9946168461051758)"
      ]
     },
     "execution_count": 98,
     "metadata": {},
     "output_type": "execute_result"
    }
   ],
   "source": [
    "beta_fear[200], beta_from_data[200]"
   ]
  },
  {
   "cell_type": "markdown",
   "metadata": {},
   "source": [
    "# Set global params"
   ]
  },
  {
   "cell_type": "code",
   "execution_count": 100,
   "metadata": {},
   "outputs": [],
   "source": [
    "population = 8_336_817"
   ]
  },
  {
   "cell_type": "markdown",
   "metadata": {},
   "source": [
    "# SIR first peak"
   ]
  },
  {
   "cell_type": "code",
   "execution_count": 102,
   "metadata": {},
   "outputs": [
    {
     "data": {
      "text/plain": [
       "<matplotlib.axes._subplots.AxesSubplot at 0x7f5b2c31dfd0>"
      ]
     },
     "execution_count": 102,
     "metadata": {},
     "output_type": "execute_result"
    },
    {
     "data": {
      "image/png": "[encoded data removed]",
      "text/plain": [
       "<Figure size 432x288 with 1 Axes>"
      ]
     },
     "metadata": {
      "needs_background": "light"
     },
     "output_type": "display_data"
    }
   ],
   "source": [
    "df[20:160]['total_infected'].plot()"
   ]
  },
  {
   "cell_type": "code",
   "execution_count": 106,
   "metadata": {},
   "outputs": [
    {
     "data": {
      "text/plain": [
       "total_infected                  495.429\n",
       "infected_per_day                125.571\n",
       "total_dead                     0.571429\n",
       "dead_per_day                   0.142857\n",
       "date                2020-03-18 00:00:00\n",
       "Name: 50, dtype: object"
      ]
     },
     "execution_count": 106,
     "metadata": {},
     "output_type": "execute_result"
    }
   ],
   "source": [
    "df.iloc[50]"
   ]
  },
  {
   "cell_type": "code",
   "execution_count": 112,
   "metadata": {},
   "outputs": [
    {
     "data": {
      "text/html": [
       "<h2>Fit Statistics</h2><table><tr><td>fitting method</td><td>leastsq</td><td></td></tr><tr><td># function evals</td><td>11</td><td></td></tr><tr><td># data points</td><td>220</td><td></td></tr><tr><td># variables</td><td>1</td><td></td></tr><tr><td>chi-square</td><td> 1.4105e+14</td><td></td></tr><tr><td>reduced chi-square</td><td> 6.4408e+11</td><td></td></tr><tr><td>Akaike info crit.</td><td> 5983.03869</td><td></td></tr><tr><td>Bayesian info crit.</td><td> 5986.43231</td><td></td></tr></table><h2>Variables</h2><table><tr><th> name </th><th> value </th><th> standard error </th><th> relative error </th><th> initial value </th><th> min </th><th> max </th><th> vary </th></tr><tr><td> population </td><td>  8336817.00 </td><td>  0.00000000 </td><td> (0.00%) </td><td> 8336817 </td><td>        -inf </td><td>         inf </td><td> False </td></tr><tr><td> beta </td><td>  0.30000000 </td><td>  3.9091e-14 </td><td> (0.00%) </td><td> 0.3 </td><td>  0.30000000 </td><td>  10.0000000 </td><td> True </td></tr><tr><td> gamma </td><td>  0.10526316 </td><td>  0.00000000 </td><td> (0.00%) </td><td> 0.10526315789473684 </td><td>        -inf </td><td>         inf </td><td> False </td></tr><tr><td> delta </td><td>  0.08928571 </td><td>  0.00000000 </td><td> (0.00%) </td><td> 0.08928571428571429 </td><td>        -inf </td><td>         inf </td><td> False </td></tr><tr><td> alpha </td><td>  0.01800000 </td><td>  0.00000000 </td><td> (0.00%) </td><td> 0.018 </td><td>  0.00000000 </td><td>  0.20000000 </td><td> False </td></tr><tr><td> rho </td><td>  0.07142857 </td><td>  0.00000000 </td><td> (0.00%) </td><td> 0.07142857142857142 </td><td>        -inf </td><td>         inf </td><td> False </td></tr></table>"
      ],
      "text/plain": [
       "<lmfit.minimizer.MinimizerResult at 0x7f5b2c2e0910>"
      ]
     },
     "execution_count": 112,
     "metadata": {},
     "output_type": "execute_result"
    }
   ],
   "source": [
    "model = SEIR(population)\n",
    "\n",
    "subset = df[50:160]\n",
    "model.fit(subset)\n",
    "\n",
    "result = model.fit_result_\n",
    "#result.plot_fit(datafmt=\"-\");\n",
    "result"
   ]
  },
  {
   "cell_type": "code",
   "execution_count": 113,
   "metadata": {},
   "outputs": [
    {
     "data": {
      "text/plain": [
       "2.85"
      ]
     },
     "execution_count": 113,
     "metadata": {},
     "output_type": "execute_result"
    }
   ],
   "source": [
    "R0 = result.params['beta']/result.params['gamma']\n",
    "R0"
   ]
  },
  {
   "cell_type": "code",
   "execution_count": 114,
   "metadata": {},
   "outputs": [],
   "source": [
    "S, E, I, R, D = model.predict_train()"
   ]
  },
  {
   "cell_type": "code",
   "execution_count": 115,
   "metadata": {},
   "outputs": [
    {
     "data": {
      "text/plain": [
       "(45.941520467836256, 0.0, 444.44444444444446, 0.5714285714285714)"
      ]
     },
     "execution_count": 115,
     "metadata": {},
     "output_type": "execute_result"
    }
   ],
   "source": [
    "R[0], E[0], I[0], D[0]"
   ]
  },
  {
   "cell_type": "code",
   "execution_count": 116,
   "metadata": {},
   "outputs": [
    {
     "data": {
      "text/plain": [
       "total_infected                  495.429\n",
       "infected_per_day                125.571\n",
       "total_dead                     0.571429\n",
       "dead_per_day                   0.142857\n",
       "date                2020-03-18 00:00:00\n",
       "Name: 50, dtype: object"
      ]
     },
     "execution_count": 116,
     "metadata": {},
     "output_type": "execute_result"
    }
   ],
   "source": [
    "subset.iloc[0]"
   ]
  },
  {
   "cell_type": "code",
   "execution_count": 118,
   "metadata": {},
   "outputs": [
    {
     "data": {
      "image/png": "[encoded data removed]",
      "text/plain": [
       "<Figure size 432x288 with 1 Axes>"
      ]
     },
     "metadata": {
      "needs_background": "light"
     },
     "output_type": "display_data"
    }
   ],
   "source": [
    "plt.figure()\n",
    "x = np.arange(len(subset))\n",
    "plt.plot(x, I, label='predicted')\n",
    "plt.legend()\n",
    "plt.title('Active cases')\n",
    "plt.show()"
   ]
  },
  {
   "cell_type": "code",
   "execution_count": 120,
   "metadata": {},
   "outputs": [
    {
     "data": {
      "image/png": "[encoded data removed]",
      "text/plain": [
       "<Figure size 432x288 with 1 Axes>"
      ]
     },
     "metadata": {
      "needs_background": "light"
     },
     "output_type": "display_data"
    }
   ],
   "source": [
    "plt.figure()\n",
    "x = np.arange(len(subset))\n",
    "plt.plot(x, R, label='predicted')\n",
    "plt.legend()\n",
    "plt.title('Recovered')\n",
    "plt.show()"
   ]
  },
  {
   "cell_type": "code",
   "execution_count": 121,
   "metadata": {},
   "outputs": [
    {
     "data": {
      "image/png": "[encoded data removed]",
      "text/plain": [
       "<Figure size 432x288 with 1 Axes>"
      ]
     },
     "metadata": {
      "needs_background": "light"
     },
     "output_type": "display_data"
    }
   ],
   "source": [
    "plt.figure()\n",
    "x = np.arange(len(subset))\n",
    "plt.plot(x, subset['total_infected'], label='ground truth')\n",
    "plt.plot(x, I.cumsum(), label='predicted')\n",
    "plt.legend()\n",
    "plt.title('Total infected')\n",
    "plt.show()"
   ]
  },
  {
   "cell_type": "code",
   "execution_count": 122,
   "metadata": {},
   "outputs": [
    {
     "data": {
      "image/png": "[encoded data removed]",
      "text/plain": [
       "<Figure size 432x288 with 1 Axes>"
      ]
     },
     "metadata": {
      "needs_background": "light"
     },
     "output_type": "display_data"
    }
   ],
   "source": [
    "plt.figure()\n",
    "x = np.arange(len(subset))\n",
    "plt.plot(x, subset['total_dead'], label='ground truth')\n",
    "plt.plot(x, D, label='predicted')\n",
    "plt.legend()\n",
    "plt.title('Total deaths')\n",
    "plt.show()"
   ]
  },
  {
   "cell_type": "code",
   "execution_count": 123,
   "metadata": {},
   "outputs": [
    {
     "data": {
      "image/png": "[encoded data removed]",
      "text/plain": [
       "<Figure size 432x288 with 1 Axes>"
      ]
     },
     "metadata": {
      "needs_background": "light"
     },
     "output_type": "display_data"
    },
    {
     "data": {
      "image/png": "[encoded data removed]",
      "text/plain": [
       "<Figure size 432x288 with 1 Axes>"
      ]
     },
     "metadata": {
      "needs_background": "light"
     },
     "output_type": "display_data"
    }
   ],
   "source": [
    "test_subset = df[len(subset):len(subset)+30]\n",
    "\n",
    "test_t = np.arange(len(subset), len(subset)+len(test_subset))\n",
    "S, E, I, R, D = model.predict_test(test_t)\n",
    "\n",
    "plt.figure()\n",
    "plt.plot(test_t, test_subset['total_dead'], label='ground truth')\n",
    "plt.plot(test_t, D, label='predicted')\n",
    "plt.legend()\n",
    "plt.title('Test total deaths')\n",
    "plt.show()\n",
    "\n",
    "plt.figure()\n",
    "plt.plot(test_t, test_subset['total_infected'], label='ground truth')\n",
    "plt.plot(test_t, I.cumsum(), label='predicted')\n",
    "plt.legend()\n",
    "plt.title('Test total infected')\n",
    "plt.show()\n"
   ]
  },
  {
   "cell_type": "markdown",
   "metadata": {},
   "source": [
    "# SEIR full"
   ]
  },
  {
   "cell_type": "code",
   "execution_count": 160,
   "metadata": {},
   "outputs": [
    {
     "data": {
      "text/plain": [
       "4.594324920503823e-11"
      ]
     },
     "execution_count": 160,
     "metadata": {},
     "output_type": "execute_result"
    }
   ],
   "source": [
    "model = SEIR(population)\n",
    "subset = df[200:]\n",
    "model.fit(subset)\n",
    "\n",
    "S, E, I, R, D = model.predict_train()\n",
    "\n",
    "result = model.fit_result_\n",
    "R0 = result.params['beta']/result.params['gamma']\n",
    "R0"
   ]
  },
  {
   "cell_type": "code",
   "execution_count": 161,
   "metadata": {},
   "outputs": [
    {
     "data": {
      "text/plain": [
       "6913333.333333335"
      ]
     },
     "execution_count": 161,
     "metadata": {},
     "output_type": "execute_result"
    }
   ],
   "source": [
    "I[0]"
   ]
  },
  {
   "cell_type": "code",
   "execution_count": 162,
   "metadata": {},
   "outputs": [
    {
     "data": {
      "text/plain": [
       "total_infected                   193974\n",
       "infected_per_day                317.714\n",
       "total_dead                      8888.57\n",
       "dead_per_day                    3.28571\n",
       "date                2020-08-15 00:00:00\n",
       "Name: 200, dtype: object"
      ]
     },
     "execution_count": 162,
     "metadata": {},
     "output_type": "execute_result"
    }
   ],
   "source": [
    "subset.iloc[0]"
   ]
  },
  {
   "cell_type": "code",
   "execution_count": 163,
   "metadata": {},
   "outputs": [
    {
     "data": {
      "text/plain": [
       "total_infected                   742903\n",
       "infected_per_day                7614.29\n",
       "total_dead                        15171\n",
       "dead_per_day                    114.714\n",
       "date                2021-01-24 00:00:00\n",
       "Name: 362, dtype: object"
      ]
     },
     "execution_count": 163,
     "metadata": {},
     "output_type": "execute_result"
    }
   ],
   "source": [
    "subset.iloc[-1]"
   ]
  },
  {
   "cell_type": "code",
   "execution_count": 164,
   "metadata": {},
   "outputs": [
    {
     "data": {
      "text/html": [
       "<h2>Fit Statistics</h2><table><tr><td>fitting method</td><td>leastsq</td><td></td></tr><tr><td># function evals</td><td>18</td><td></td></tr><tr><td># data points</td><td>326</td><td></td></tr><tr><td># variables</td><td>1</td><td></td></tr><tr><td>chi-square</td><td> 7.1496e+17</td><td></td></tr><tr><td>reduced chi-square</td><td> 2.1999e+15</td><td></td></tr><tr><td>Akaike info crit.</td><td> 11517.6587</td><td></td></tr><tr><td>Bayesian info crit.</td><td> 11521.4456</td><td></td></tr></table><h2>Variables</h2><table><tr><th> name </th><th> value </th><th> standard error </th><th> relative error </th><th> initial value </th><th> min </th><th> max </th><th> vary </th></tr><tr><td> population </td><td>  8336817.00 </td><td>  0.00000000 </td><td> (0.00%) </td><td> 8336817 </td><td>        -inf </td><td>         inf </td><td> False </td></tr><tr><td> beta </td><td>  4.8361e-12 </td><td>  0.15487438 </td><td> (3202443441416.99%) </td><td> 0.26 </td><td>  0.00000000 </td><td>  10.0000000 </td><td> True </td></tr><tr><td> gamma </td><td>  0.10526316 </td><td>  0.00000000 </td><td> (0.00%) </td><td> 0.10526315789473684 </td><td>        -inf </td><td>         inf </td><td> False </td></tr><tr><td> delta </td><td>  0.08928571 </td><td>  0.00000000 </td><td> (0.00%) </td><td> 0.08928571428571429 </td><td>        -inf </td><td>         inf </td><td> False </td></tr><tr><td> alpha </td><td>  0.01800000 </td><td>  0.00000000 </td><td> (0.00%) </td><td> 0.018 </td><td>  0.00000000 </td><td>  0.20000000 </td><td> False </td></tr><tr><td> rho </td><td>  0.07142857 </td><td>  0.00000000 </td><td> (0.00%) </td><td> 0.07142857142857142 </td><td>        -inf </td><td>         inf </td><td> False </td></tr></table>"
      ],
      "text/plain": [
       "<lmfit.minimizer.MinimizerResult at 0x7f5b2e75ad90>"
      ]
     },
     "execution_count": 164,
     "metadata": {},
     "output_type": "execute_result"
    }
   ],
   "source": [
    "result"
   ]
  },
  {
   "cell_type": "code",
   "execution_count": 165,
   "metadata": {},
   "outputs": [
    {
     "data": {
      "image/png": "[encoded data removed]",
      "text/plain": [
       "<Figure size 720x504 with 1 Axes>"
      ]
     },
     "metadata": {
      "needs_background": "light"
     },
     "output_type": "display_data"
    }
   ],
   "source": [
    "plt.figure(figsize=(10, 7))\n",
    "plt.plot(subset.date, I, label='infected')\n",
    "plt.plot(subset.date, E, label='exposed')\n",
    "#plt.plot(subset.date, R, label='recovered')\n",
    "plt.plot(subset.date, D, label='dead')\n",
    "plt.legend()\n",
    "plt.show()"
   ]
  },
  {
   "cell_type": "code",
   "execution_count": 166,
   "metadata": {},
   "outputs": [
    {
     "data": {
      "image/png": "[encoded data removed]",
      "text/plain": [
       "<Figure size 432x288 with 1 Axes>"
      ]
     },
     "metadata": {
      "needs_background": "light"
     },
     "output_type": "display_data"
    }
   ],
   "source": [
    "plt.figure()\n",
    "x = np.arange(len(subset))\n",
    "plt.plot(x, subset['total_dead'], label='ground truth')\n",
    "plt.plot(x, D, label='predicted')\n",
    "plt.legend()\n",
    "plt.title('Total deaths')\n",
    "plt.show()"
   ]
  },
  {
   "cell_type": "code",
   "execution_count": 167,
   "metadata": {},
   "outputs": [
    {
     "data": {
      "image/png": "[encoded data removed]",
      "text/plain": [
       "<Figure size 432x288 with 1 Axes>"
      ]
     },
     "metadata": {
      "needs_background": "light"
     },
     "output_type": "display_data"
    }
   ],
   "source": [
    "plt.figure()\n",
    "x = np.arange(len(subset))\n",
    "plt.plot(x, subset['total_infected'], label='ground truth')\n",
    "plt.plot(x, I.cumsum(), label='predicted')\n",
    "plt.legend()\n",
    "plt.title('Total infected')\n",
    "plt.show()"
   ]
  }
 ],
 "metadata": {
  "kernelspec": {
   "display_name": "Python 3",
   "language": "python",
   "name": "python3"
  },
  "language_info": {
   "codemirror_mode": {
    "name": "ipython",
    "version": 3
   },
   "file_extension": ".py",
   "mimetype": "text/x-python",
   "name": "python",
   "nbconvert_exporter": "python",
   "pygments_lexer": "ipython3",
   "version": "3.8.5"
  }
 },
 "nbformat": 4,
 "nbformat_minor": 4
}
